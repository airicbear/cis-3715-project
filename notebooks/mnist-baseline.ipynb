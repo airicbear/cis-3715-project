{
 "cells": [
  {
   "cell_type": "markdown",
   "id": "4b6518b9",
   "metadata": {
    "papermill": {
     "duration": 0.007208,
     "end_time": "2023-04-09T22:24:40.298555",
     "exception": false,
     "start_time": "2023-04-09T22:24:40.291347",
     "status": "completed"
    },
    "tags": []
   },
   "source": [
    "# MNIST Baseline\n",
    "\n",
    "In this notebook, we create a baseline model to predict labels on the MNIST data set."
   ]
  },
  {
   "cell_type": "markdown",
   "id": "a4c0f9d7",
   "metadata": {
    "papermill": {
     "duration": 0.005959,
     "end_time": "2023-04-09T22:24:40.310877",
     "exception": false,
     "start_time": "2023-04-09T22:24:40.304918",
     "status": "completed"
    },
    "tags": []
   },
   "source": [
    "## Import packages"
   ]
  },
  {
   "cell_type": "code",
   "execution_count": 1,
   "id": "df2a0283",
   "metadata": {
    "execution": {
     "iopub.execute_input": "2023-04-09T22:24:40.326492Z",
     "iopub.status.busy": "2023-04-09T22:24:40.324896Z",
     "iopub.status.idle": "2023-04-09T22:24:41.819648Z",
     "shell.execute_reply": "2023-04-09T22:24:41.818064Z"
    },
    "papermill": {
     "duration": 1.504762,
     "end_time": "2023-04-09T22:24:41.821984",
     "exception": false,
     "start_time": "2023-04-09T22:24:40.317222",
     "status": "completed"
    },
    "tags": []
   },
   "outputs": [],
   "source": [
    "import numpy as np\n",
    "import pandas as pd\n",
    "import matplotlib.pyplot as plt\n",
    "from sklearn.neighbors import KNeighborsClassifier\n",
    "from sklearn.model_selection import train_test_split\n",
    "from sklearn.preprocessing import StandardScaler\n",
    "from sklearn.model_selection import GridSearchCV\n",
    "from sklearn.neighbors import KNeighborsClassifier\n",
    "from sklearn.metrics import accuracy_score, f1_score, recall_score, precision_score, classification_report\n",
    "from random import shuffle\n",
    "import random\n",
    "random.seed(123)"
   ]
  },
  {
   "cell_type": "markdown",
   "id": "3948296c",
   "metadata": {
    "papermill": {
     "duration": 0.005751,
     "end_time": "2023-04-09T22:24:41.834267",
     "exception": false,
     "start_time": "2023-04-09T22:24:41.828516",
     "status": "completed"
    },
    "tags": []
   },
   "source": [
    "## Define constants"
   ]
  },
  {
   "cell_type": "code",
   "execution_count": 2,
   "id": "b7e7e052",
   "metadata": {
    "execution": {
     "iopub.execute_input": "2023-04-09T22:24:41.847761Z",
     "iopub.status.busy": "2023-04-09T22:24:41.847356Z",
     "iopub.status.idle": "2023-04-09T22:24:41.852897Z",
     "shell.execute_reply": "2023-04-09T22:24:41.850929Z"
    },
    "papermill": {
     "duration": 0.015277,
     "end_time": "2023-04-09T22:24:41.855309",
     "exception": false,
     "start_time": "2023-04-09T22:24:41.840032",
     "status": "completed"
    },
    "tags": []
   },
   "outputs": [],
   "source": [
    "IMAGE_SIZE = (28, 28)"
   ]
  },
  {
   "cell_type": "markdown",
   "id": "c5f2474c",
   "metadata": {
    "papermill": {
     "duration": 0.005626,
     "end_time": "2023-04-09T22:24:41.867007",
     "exception": false,
     "start_time": "2023-04-09T22:24:41.861381",
     "status": "completed"
    },
    "tags": []
   },
   "source": [
    "## Load data\n",
    "\n",
    "We load both the train set and test set as Pandas data frames."
   ]
  },
  {
   "cell_type": "code",
   "execution_count": 3,
   "id": "15ee9446",
   "metadata": {
    "execution": {
     "iopub.execute_input": "2023-04-09T22:24:41.880929Z",
     "iopub.status.busy": "2023-04-09T22:24:41.880610Z",
     "iopub.status.idle": "2023-04-09T22:24:46.492405Z",
     "shell.execute_reply": "2023-04-09T22:24:46.490557Z"
    },
    "papermill": {
     "duration": 4.622172,
     "end_time": "2023-04-09T22:24:46.495279",
     "exception": false,
     "start_time": "2023-04-09T22:24:41.873107",
     "status": "completed"
    },
    "tags": []
   },
   "outputs": [],
   "source": [
    "train_data = pd.read_csv(\"../data/train.csv\")\n",
    "test_data = pd.read_csv(\"../data/test.csv\")\n",
    "\n",
    "train_features = train_data.drop('label', axis=1)\n",
    "train_label = train_data['label']"
   ]
  },
  {
   "cell_type": "markdown",
   "id": "d822c1bc",
   "metadata": {
    "papermill": {
     "duration": 0.006298,
     "end_time": "2023-04-09T22:24:46.508143",
     "exception": false,
     "start_time": "2023-04-09T22:24:46.501845",
     "status": "completed"
    },
    "tags": []
   },
   "source": [
    "## Data normalization"
   ]
  },
  {
   "cell_type": "code",
   "execution_count": 4,
   "id": "2e22c7fc",
   "metadata": {
    "execution": {
     "iopub.execute_input": "2023-04-09T22:24:46.522284Z",
     "iopub.status.busy": "2023-04-09T22:24:46.521931Z",
     "iopub.status.idle": "2023-04-09T22:24:46.612185Z",
     "shell.execute_reply": "2023-04-09T22:24:46.610922Z"
    },
    "papermill": {
     "duration": 0.100376,
     "end_time": "2023-04-09T22:24:46.614821",
     "exception": false,
     "start_time": "2023-04-09T22:24:46.514445",
     "status": "completed"
    },
    "tags": []
   },
   "outputs": [],
   "source": [
    "# Normalizing the images array to be in the range of 0-1 by dividing them by the max possible value.\n",
    "train_features = train_features / 255.0\n",
    "test_data = test_data / 255.0"
   ]
  },
  {
   "cell_type": "markdown",
   "id": "09e21a24",
   "metadata": {
    "papermill": {
     "duration": 0.005782,
     "end_time": "2023-04-09T22:24:46.626914",
     "exception": false,
     "start_time": "2023-04-09T22:24:46.621132",
     "status": "completed"
    },
    "tags": []
   },
   "source": [
    "## Fit KNN model"
   ]
  },
  {
   "cell_type": "code",
   "execution_count": 5,
   "id": "d5095416",
   "metadata": {
    "execution": {
     "iopub.execute_input": "2023-04-09T22:24:46.641052Z",
     "iopub.status.busy": "2023-04-09T22:24:46.640705Z",
     "iopub.status.idle": "2023-04-09T22:24:46.683527Z",
     "shell.execute_reply": "2023-04-09T22:24:46.682090Z"
    },
    "papermill": {
     "duration": 0.05311,
     "end_time": "2023-04-09T22:24:46.686057",
     "exception": false,
     "start_time": "2023-04-09T22:24:46.632947",
     "status": "completed"
    },
    "tags": []
   },
   "outputs": [
    {
     "data": {
      "text/plain": [
       "KNeighborsClassifier(n_neighbors=1)"
      ]
     },
     "execution_count": 5,
     "metadata": {},
     "output_type": "execute_result"
    }
   ],
   "source": [
    "clf = KNeighborsClassifier(n_neighbors=1)\n",
    "clf.fit(train_features, train_label)"
   ]
  },
  {
   "cell_type": "markdown",
   "id": "a77fc8e2",
   "metadata": {
    "papermill": {
     "duration": 0.006372,
     "end_time": "2023-04-09T22:24:46.699606",
     "exception": false,
     "start_time": "2023-04-09T22:24:46.693234",
     "status": "completed"
    },
    "tags": []
   },
   "source": [
    "## Evaluate KNN model"
   ]
  },
  {
   "cell_type": "code",
   "execution_count": 6,
   "id": "7ffdec2e",
   "metadata": {
    "execution": {
     "iopub.execute_input": "2023-04-09T22:24:46.716493Z",
     "iopub.status.busy": "2023-04-09T22:24:46.716073Z",
     "iopub.status.idle": "2023-04-09T22:25:19.893861Z",
     "shell.execute_reply": "2023-04-09T22:25:19.891514Z"
    },
    "papermill": {
     "duration": 33.189612,
     "end_time": "2023-04-09T22:25:19.897031",
     "exception": false,
     "start_time": "2023-04-09T22:24:46.707419",
     "status": "completed"
    },
    "tags": []
   },
   "outputs": [],
   "source": [
    "test_label_prediction = clf.predict(test_data)"
   ]
  },
  {
   "cell_type": "code",
   "execution_count": 7,
   "id": "bb908549",
   "metadata": {
    "execution": {
     "iopub.execute_input": "2023-04-09T22:25:19.915879Z",
     "iopub.status.busy": "2023-04-09T22:25:19.913779Z",
     "iopub.status.idle": "2023-04-09T22:25:19.922385Z",
     "shell.execute_reply": "2023-04-09T22:25:19.919933Z"
    },
    "papermill": {
     "duration": 0.020391,
     "end_time": "2023-04-09T22:25:19.925735",
     "exception": false,
     "start_time": "2023-04-09T22:25:19.905344",
     "status": "completed"
    },
    "tags": []
   },
   "outputs": [],
   "source": [
    "submission = pd.DataFrame({'Label':test_label_prediction})\n",
    "submission.index += 1"
   ]
  },
  {
   "cell_type": "code",
   "execution_count": 8,
   "id": "02be12ab",
   "metadata": {
    "execution": {
     "iopub.execute_input": "2023-04-09T22:25:19.943748Z",
     "iopub.status.busy": "2023-04-09T22:25:19.943351Z",
     "iopub.status.idle": "2023-04-09T22:25:19.969719Z",
     "shell.execute_reply": "2023-04-09T22:25:19.967317Z"
    },
    "papermill": {
     "duration": 0.040524,
     "end_time": "2023-04-09T22:25:19.973314",
     "exception": false,
     "start_time": "2023-04-09T22:25:19.932790",
     "status": "completed"
    },
    "tags": []
   },
   "outputs": [
    {
     "data": {
      "text/html": [
       "<div>\n",
       "<style scoped>\n",
       "    .dataframe tbody tr th:only-of-type {\n",
       "        vertical-align: middle;\n",
       "    }\n",
       "\n",
       "    .dataframe tbody tr th {\n",
       "        vertical-align: top;\n",
       "    }\n",
       "\n",
       "    .dataframe thead th {\n",
       "        text-align: right;\n",
       "    }\n",
       "</style>\n",
       "<table border=\"1\" class=\"dataframe\">\n",
       "  <thead>\n",
       "    <tr style=\"text-align: right;\">\n",
       "      <th></th>\n",
       "      <th>Label</th>\n",
       "    </tr>\n",
       "  </thead>\n",
       "  <tbody>\n",
       "    <tr>\n",
       "      <th>1</th>\n",
       "      <td>2</td>\n",
       "    </tr>\n",
       "    <tr>\n",
       "      <th>2</th>\n",
       "      <td>0</td>\n",
       "    </tr>\n",
       "    <tr>\n",
       "      <th>3</th>\n",
       "      <td>9</td>\n",
       "    </tr>\n",
       "    <tr>\n",
       "      <th>4</th>\n",
       "      <td>0</td>\n",
       "    </tr>\n",
       "    <tr>\n",
       "      <th>5</th>\n",
       "      <td>3</td>\n",
       "    </tr>\n",
       "    <tr>\n",
       "      <th>...</th>\n",
       "      <td>...</td>\n",
       "    </tr>\n",
       "    <tr>\n",
       "      <th>27996</th>\n",
       "      <td>9</td>\n",
       "    </tr>\n",
       "    <tr>\n",
       "      <th>27997</th>\n",
       "      <td>7</td>\n",
       "    </tr>\n",
       "    <tr>\n",
       "      <th>27998</th>\n",
       "      <td>3</td>\n",
       "    </tr>\n",
       "    <tr>\n",
       "      <th>27999</th>\n",
       "      <td>9</td>\n",
       "    </tr>\n",
       "    <tr>\n",
       "      <th>28000</th>\n",
       "      <td>2</td>\n",
       "    </tr>\n",
       "  </tbody>\n",
       "</table>\n",
       "<p>28000 rows × 1 columns</p>\n",
       "</div>"
      ],
      "text/plain": [
       "       Label\n",
       "1          2\n",
       "2          0\n",
       "3          9\n",
       "4          0\n",
       "5          3\n",
       "...      ...\n",
       "27996      9\n",
       "27997      7\n",
       "27998      3\n",
       "27999      9\n",
       "28000      2\n",
       "\n",
       "[28000 rows x 1 columns]"
      ]
     },
     "execution_count": 8,
     "metadata": {},
     "output_type": "execute_result"
    }
   ],
   "source": [
    "submission"
   ]
  },
  {
   "cell_type": "code",
   "execution_count": 9,
   "id": "f1a3ef7a",
   "metadata": {
    "execution": {
     "iopub.execute_input": "2023-04-09T22:25:19.991168Z",
     "iopub.status.busy": "2023-04-09T22:25:19.990820Z",
     "iopub.status.idle": "2023-04-09T22:25:20.033545Z",
     "shell.execute_reply": "2023-04-09T22:25:20.032227Z"
    },
    "papermill": {
     "duration": 0.054442,
     "end_time": "2023-04-09T22:25:20.036183",
     "exception": false,
     "start_time": "2023-04-09T22:25:19.981741",
     "status": "completed"
    },
    "tags": []
   },
   "outputs": [],
   "source": [
    "submission.to_csv('submission.csv', index=True, index_label='ImageId')"
   ]
  },
  {
   "cell_type": "markdown",
   "id": "65f33030",
   "metadata": {
    "papermill": {
     "duration": 0.006724,
     "end_time": "2023-04-09T22:25:20.049960",
     "exception": false,
     "start_time": "2023-04-09T22:25:20.043236",
     "status": "completed"
    },
    "tags": []
   },
   "source": [
    "## Split the  traindata into two subsets and normalize the features of samples¶"
   ]
  },
  {
   "cell_type": "code",
   "execution_count": 10,
   "id": "005dca5d",
   "metadata": {
    "execution": {
     "iopub.execute_input": "2023-04-09T22:25:20.066800Z",
     "iopub.status.busy": "2023-04-09T22:25:20.065512Z",
     "iopub.status.idle": "2023-04-09T22:25:20.072479Z",
     "shell.execute_reply": "2023-04-09T22:25:20.071342Z"
    },
    "papermill": {
     "duration": 0.0181,
     "end_time": "2023-04-09T22:25:20.075161",
     "exception": false,
     "start_time": "2023-04-09T22:25:20.057061",
     "status": "completed"
    },
    "tags": []
   },
   "outputs": [
    {
     "data": {
      "text/plain": [
       "(42000, 785)"
      ]
     },
     "execution_count": 10,
     "metadata": {},
     "output_type": "execute_result"
    }
   ],
   "source": [
    "train_data.shape"
   ]
  },
  {
   "cell_type": "code",
   "execution_count": 11,
   "id": "a068b052",
   "metadata": {
    "execution": {
     "iopub.execute_input": "2023-04-09T22:25:20.091509Z",
     "iopub.status.busy": "2023-04-09T22:25:20.090877Z",
     "iopub.status.idle": "2023-04-09T22:25:20.107553Z",
     "shell.execute_reply": "2023-04-09T22:25:20.105945Z"
    },
    "papermill": {
     "duration": 0.028359,
     "end_time": "2023-04-09T22:25:20.110551",
     "exception": false,
     "start_time": "2023-04-09T22:25:20.082192",
     "status": "completed"
    },
    "tags": []
   },
   "outputs": [
    {
     "name": "stdout",
     "output_type": "stream",
     "text": [
      "[0.2857, 0.2833, 0.281, 0.2786, 0.2762, 0.2738, 0.2714, 0.269, 0.2667, 0.2643, 0.2619, 0.2595, 0.2571, 0.2548, 0.2524, 0.25, 0.2476, 0.2452, 0.2429, 0.2405, 0.2381, 0.2357, 0.2333, 0.231, 0.2286, 0.2262, 0.2238, 0.2214, 0.219, 0.2167, 0.2143, 0.2119, 0.2095, 0.2071, 0.2048, 0.2024, 0.2, 0.1976, 0.1952, 0.1929, 0.1905, 0.1881, 0.1857, 0.1833, 0.181, 0.1786, 0.1762, 0.1738, 0.1714, 0.169, 0.1667, 0.1643, 0.1619, 0.1595, 0.1571, 0.1548, 0.1524, 0.15, 0.1476, 0.1452, 0.1429, 0.1405, 0.1381, 0.1357, 0.1333, 0.131, 0.1286, 0.1262, 0.1238, 0.1214, 0.119, 0.1167, 0.1143, 0.1119, 0.1095, 0.1071, 0.1048, 0.1024, 0.1, 0.0976, 0.0952, 0.0929, 0.0905, 0.0881, 0.0857, 0.0833, 0.081, 0.0786, 0.0762, 0.0738, 0.0714, 0.069, 0.0667, 0.0643, 0.0619, 0.0595, 0.0571, 0.0548, 0.0524, 0.05, 0.0476, 0.0452, 0.0429, 0.0405, 0.0381, 0.0357, 0.0333, 0.031, 0.0286, 0.0262, 0.0238, 0.0214, 0.019, 0.0167, 0.0143, 0.0119, 0.0095, 0.0071, 0.0048, 0.0024, 0.0]\n",
      "\n",
      "\u001b[1mI choose 0.2857 as the test size\n"
     ]
    }
   ],
   "source": [
    "# Check for possible test sizes for 100-fold cross validation\n",
    "folds = 100\n",
    "possible_test_sizes = [round(1 - x/train_data.shape[0], ndigits=4) for x in range(30000, 420000, folds)]\n",
    "\n",
    "# Print only positive test_size value\n",
    "test_size = list(filter(lambda x: (x >= 0), possible_test_sizes))\n",
    "print(test_size)\n",
    "\n",
    "# Chose 0.2143 as the test size\n",
    "print('\\n\\033[1mI choose 0.2857 as the test size')"
   ]
  },
  {
   "cell_type": "code",
   "execution_count": 12,
   "id": "98442f14",
   "metadata": {
    "execution": {
     "iopub.execute_input": "2023-04-09T22:25:20.126754Z",
     "iopub.status.busy": "2023-04-09T22:25:20.126391Z",
     "iopub.status.idle": "2023-04-09T22:25:20.354971Z",
     "shell.execute_reply": "2023-04-09T22:25:20.353951Z"
    },
    "papermill": {
     "duration": 0.240079,
     "end_time": "2023-04-09T22:25:20.357799",
     "exception": false,
     "start_time": "2023-04-09T22:25:20.117720",
     "status": "completed"
    },
    "tags": []
   },
   "outputs": [
    {
     "name": "stdout",
     "output_type": "stream",
     "text": [
      "samples: 42000, train_val: 30000, test: 12000\n"
     ]
    }
   ],
   "source": [
    "# Split the dataset into the train_val set and testing set\n",
    "\n",
    "# train_features = train_data.drop('label', axis=1)\n",
    "# train_label = train_data['label']\n",
    "\n",
    "X_train, X_test, y_train, y_test = train_test_split(train_features, train_label , \n",
    "                                                    test_size = 0.2857,\n",
    "                                                    random_state = 0)\n",
    "print(f'samples: {train_data.shape[0]}, train_val: {X_train.shape[0]}, test: {X_test.shape[0]}')"
   ]
  },
  {
   "cell_type": "code",
   "execution_count": 13,
   "id": "f9589fb3",
   "metadata": {
    "execution": {
     "iopub.execute_input": "2023-04-09T22:25:20.373879Z",
     "iopub.status.busy": "2023-04-09T22:25:20.373508Z",
     "iopub.status.idle": "2023-04-09T22:25:20.662227Z",
     "shell.execute_reply": "2023-04-09T22:25:20.660150Z"
    },
    "papermill": {
     "duration": 0.300785,
     "end_time": "2023-04-09T22:25:20.665565",
     "exception": false,
     "start_time": "2023-04-09T22:25:20.364780",
     "status": "completed"
    },
    "tags": []
   },
   "outputs": [],
   "source": [
    "# Normalize features\n",
    "normalizer = StandardScaler()\n",
    "X_train = normalizer.fit_transform(X_train)\n",
    "X_test = normalizer.transform(X_test)"
   ]
  },
  {
   "cell_type": "markdown",
   "id": "e32fdc09",
   "metadata": {
    "papermill": {
     "duration": 0.008285,
     "end_time": "2023-04-09T22:25:20.682231",
     "exception": false,
     "start_time": "2023-04-09T22:25:20.673946",
     "status": "completed"
    },
    "tags": []
   },
   "source": [
    "## Train the KNN model and select the hyperparameter with cross-validation¶"
   ]
  },
  {
   "cell_type": "code",
   "execution_count": 14,
   "id": "8692a40a",
   "metadata": {
    "execution": {
     "iopub.execute_input": "2023-04-09T22:25:20.699516Z",
     "iopub.status.busy": "2023-04-09T22:25:20.698341Z",
     "iopub.status.idle": "2023-04-09T22:25:20.707359Z",
     "shell.execute_reply": "2023-04-09T22:25:20.704808Z"
    },
    "papermill": {
     "duration": 0.020586,
     "end_time": "2023-04-09T22:25:20.710131",
     "exception": false,
     "start_time": "2023-04-09T22:25:20.689545",
     "status": "completed"
    },
    "tags": []
   },
   "outputs": [
    {
     "name": "stdout",
     "output_type": "stream",
     "text": [
      "{'n_neighbors': range(1, 10)}\n"
     ]
    }
   ],
   "source": [
    "k_range = range(1,10)\n",
    "param_grid = dict(n_neighbors=k_range)\n",
    "print(param_grid)"
   ]
  },
  {
   "cell_type": "code",
   "execution_count": 15,
   "id": "a3f424fd",
   "metadata": {
    "execution": {
     "iopub.execute_input": "2023-04-09T22:25:20.730656Z",
     "iopub.status.busy": "2023-04-09T22:25:20.730286Z",
     "iopub.status.idle": "2023-04-09T22:25:20.738357Z",
     "shell.execute_reply": "2023-04-09T22:25:20.736224Z"
    },
    "papermill": {
     "duration": 0.023106,
     "end_time": "2023-04-09T22:25:20.741482",
     "exception": false,
     "start_time": "2023-04-09T22:25:20.718376",
     "status": "completed"
    },
    "tags": []
   },
   "outputs": [],
   "source": [
    "clf_knn = KNeighborsClassifier(n_neighbors=1)"
   ]
  },
  {
   "cell_type": "code",
   "execution_count": 16,
   "id": "0ddbb4b7",
   "metadata": {
    "execution": {
     "iopub.execute_input": "2023-04-09T22:25:20.758137Z",
     "iopub.status.busy": "2023-04-09T22:25:20.757807Z",
     "iopub.status.idle": "2023-04-09T22:27:02.289621Z",
     "shell.execute_reply": "2023-04-09T22:27:02.287961Z"
    },
    "papermill": {
     "duration": 101.548248,
     "end_time": "2023-04-09T22:27:02.297253",
     "exception": false,
     "start_time": "2023-04-09T22:25:20.749005",
     "status": "completed"
    },
    "tags": []
   },
   "outputs": [
    {
     "name": "stdout",
     "output_type": "stream",
     "text": [
      "0.9235333333333333\n",
      "{'n_neighbors': 3}\n"
     ]
    }
   ],
   "source": [
    "grid = GridSearchCV(clf_knn, param_grid, cv=2, scoring='accuracy', n_jobs = -1)\n",
    "grid.fit(X_train, y_train)\n",
    "\n",
    "print(grid.best_score_)\n",
    "print(grid.best_params_)"
   ]
  },
  {
   "cell_type": "markdown",
   "id": "4cef90bd",
   "metadata": {
    "papermill": {
     "duration": 0.006683,
     "end_time": "2023-04-09T22:27:02.310872",
     "exception": false,
     "start_time": "2023-04-09T22:27:02.304189",
     "status": "completed"
    },
    "tags": []
   },
   "source": [
    "## Evaluate model"
   ]
  },
  {
   "cell_type": "code",
   "execution_count": 17,
   "id": "6ca6f03e",
   "metadata": {
    "execution": {
     "iopub.execute_input": "2023-04-09T22:27:02.327233Z",
     "iopub.status.busy": "2023-04-09T22:27:02.326360Z",
     "iopub.status.idle": "2023-04-09T22:27:15.006590Z",
     "shell.execute_reply": "2023-04-09T22:27:15.005530Z"
    },
    "papermill": {
     "duration": 12.691476,
     "end_time": "2023-04-09T22:27:15.009435",
     "exception": false,
     "start_time": "2023-04-09T22:27:02.317959",
     "status": "completed"
    },
    "tags": []
   },
   "outputs": [],
   "source": [
    "clf_knn =  KNeighborsClassifier(n_neighbors = grid.best_params_['n_neighbors'])\n",
    "clf_knn.fit(X_train, y_train)\n",
    "\n",
    "# Evaluate the model on the testing set\n",
    "knn_predict = clf_knn.predict(X_test)"
   ]
  },
  {
   "cell_type": "code",
   "execution_count": 18,
   "id": "7c5d3247",
   "metadata": {
    "execution": {
     "iopub.execute_input": "2023-04-09T22:27:15.025870Z",
     "iopub.status.busy": "2023-04-09T22:27:15.025508Z",
     "iopub.status.idle": "2023-04-09T22:27:15.058350Z",
     "shell.execute_reply": "2023-04-09T22:27:15.056324Z"
    },
    "papermill": {
     "duration": 0.044421,
     "end_time": "2023-04-09T22:27:15.061309",
     "exception": false,
     "start_time": "2023-04-09T22:27:15.016888",
     "status": "completed"
    },
    "tags": []
   },
   "outputs": [
    {
     "name": "stdout",
     "output_type": "stream",
     "text": [
      "              precision    recall  f1-score   support\n",
      "\n",
      "           0       0.95      0.98      0.96      1171\n",
      "           1       0.95      0.98      0.97      1371\n",
      "           2       0.94      0.93      0.94      1228\n",
      "           3       0.92      0.93      0.92      1229\n",
      "           4       0.94      0.92      0.93      1171\n",
      "           5       0.92      0.92      0.92      1071\n",
      "           6       0.95      0.98      0.96      1177\n",
      "           7       0.93      0.93      0.93      1284\n",
      "           8       0.97      0.87      0.92      1143\n",
      "           9       0.90      0.92      0.91      1155\n",
      "\n",
      "    accuracy                           0.94     12000\n",
      "   macro avg       0.94      0.94      0.94     12000\n",
      "weighted avg       0.94      0.94      0.94     12000\n",
      "\n",
      "\n",
      "\u001b[31;1;48;5;226mK-Nearest Neighbour Accuracy: \u001b[1m 93.73%\n"
     ]
    }
   ],
   "source": [
    "# Report prediction\n",
    "print(classification_report(y_test,knn_predict))\n",
    "\n",
    "knn_acc = accuracy_score(knn_predict, y_test)\n",
    "print(\"\\n\\033[31;1;48;5;226mK-Nearest Neighbour Accuracy: \\033[1m {:.2f}%\".format(knn_acc*100))"
   ]
  },
  {
   "cell_type": "code",
   "execution_count": 19,
   "id": "06102e2b",
   "metadata": {
    "execution": {
     "iopub.execute_input": "2023-04-09T22:27:15.077774Z",
     "iopub.status.busy": "2023-04-09T22:27:15.077422Z",
     "iopub.status.idle": "2023-04-09T22:27:47.984613Z",
     "shell.execute_reply": "2023-04-09T22:27:47.983158Z"
    },
    "papermill": {
     "duration": 32.918848,
     "end_time": "2023-04-09T22:27:47.987193",
     "exception": false,
     "start_time": "2023-04-09T22:27:15.068345",
     "status": "completed"
    },
    "tags": []
   },
   "outputs": [],
   "source": [
    "knn_predict_new = clf.predict(test_data)"
   ]
  },
  {
   "cell_type": "code",
   "execution_count": 20,
   "id": "d7b6fe7f",
   "metadata": {
    "execution": {
     "iopub.execute_input": "2023-04-09T22:27:48.003283Z",
     "iopub.status.busy": "2023-04-09T22:27:48.002986Z",
     "iopub.status.idle": "2023-04-09T22:27:48.008431Z",
     "shell.execute_reply": "2023-04-09T22:27:48.007154Z"
    },
    "papermill": {
     "duration": 0.015646,
     "end_time": "2023-04-09T22:27:48.010432",
     "exception": false,
     "start_time": "2023-04-09T22:27:47.994786",
     "status": "completed"
    },
    "tags": []
   },
   "outputs": [],
   "source": [
    "submission = pd.DataFrame({'Label': knn_predict_new})\n",
    "submission.index += 1"
   ]
  },
  {
   "cell_type": "code",
   "execution_count": 21,
   "id": "a610d2fe",
   "metadata": {
    "execution": {
     "iopub.execute_input": "2023-04-09T22:27:48.026212Z",
     "iopub.status.busy": "2023-04-09T22:27:48.025893Z",
     "iopub.status.idle": "2023-04-09T22:27:48.037399Z",
     "shell.execute_reply": "2023-04-09T22:27:48.036052Z"
    },
    "papermill": {
     "duration": 0.022268,
     "end_time": "2023-04-09T22:27:48.039793",
     "exception": false,
     "start_time": "2023-04-09T22:27:48.017525",
     "status": "completed"
    },
    "tags": []
   },
   "outputs": [
    {
     "data": {
      "text/html": [
       "<div>\n",
       "<style scoped>\n",
       "    .dataframe tbody tr th:only-of-type {\n",
       "        vertical-align: middle;\n",
       "    }\n",
       "\n",
       "    .dataframe tbody tr th {\n",
       "        vertical-align: top;\n",
       "    }\n",
       "\n",
       "    .dataframe thead th {\n",
       "        text-align: right;\n",
       "    }\n",
       "</style>\n",
       "<table border=\"1\" class=\"dataframe\">\n",
       "  <thead>\n",
       "    <tr style=\"text-align: right;\">\n",
       "      <th></th>\n",
       "      <th>Label</th>\n",
       "    </tr>\n",
       "  </thead>\n",
       "  <tbody>\n",
       "    <tr>\n",
       "      <th>1</th>\n",
       "      <td>2</td>\n",
       "    </tr>\n",
       "    <tr>\n",
       "      <th>2</th>\n",
       "      <td>0</td>\n",
       "    </tr>\n",
       "    <tr>\n",
       "      <th>3</th>\n",
       "      <td>9</td>\n",
       "    </tr>\n",
       "    <tr>\n",
       "      <th>4</th>\n",
       "      <td>0</td>\n",
       "    </tr>\n",
       "    <tr>\n",
       "      <th>5</th>\n",
       "      <td>3</td>\n",
       "    </tr>\n",
       "    <tr>\n",
       "      <th>...</th>\n",
       "      <td>...</td>\n",
       "    </tr>\n",
       "    <tr>\n",
       "      <th>27996</th>\n",
       "      <td>9</td>\n",
       "    </tr>\n",
       "    <tr>\n",
       "      <th>27997</th>\n",
       "      <td>7</td>\n",
       "    </tr>\n",
       "    <tr>\n",
       "      <th>27998</th>\n",
       "      <td>3</td>\n",
       "    </tr>\n",
       "    <tr>\n",
       "      <th>27999</th>\n",
       "      <td>9</td>\n",
       "    </tr>\n",
       "    <tr>\n",
       "      <th>28000</th>\n",
       "      <td>2</td>\n",
       "    </tr>\n",
       "  </tbody>\n",
       "</table>\n",
       "<p>28000 rows × 1 columns</p>\n",
       "</div>"
      ],
      "text/plain": [
       "       Label\n",
       "1          2\n",
       "2          0\n",
       "3          9\n",
       "4          0\n",
       "5          3\n",
       "...      ...\n",
       "27996      9\n",
       "27997      7\n",
       "27998      3\n",
       "27999      9\n",
       "28000      2\n",
       "\n",
       "[28000 rows x 1 columns]"
      ]
     },
     "execution_count": 21,
     "metadata": {},
     "output_type": "execute_result"
    }
   ],
   "source": [
    "submission"
   ]
  },
  {
   "cell_type": "code",
   "execution_count": 22,
   "id": "205c595f",
   "metadata": {
    "execution": {
     "iopub.execute_input": "2023-04-09T22:27:48.054951Z",
     "iopub.status.busy": "2023-04-09T22:27:48.054631Z",
     "iopub.status.idle": "2023-04-09T22:27:48.090285Z",
     "shell.execute_reply": "2023-04-09T22:27:48.089404Z"
    },
    "papermill": {
     "duration": 0.046015,
     "end_time": "2023-04-09T22:27:48.092754",
     "exception": false,
     "start_time": "2023-04-09T22:27:48.046739",
     "status": "completed"
    },
    "tags": []
   },
   "outputs": [],
   "source": [
    "submission.to_csv('submission.csv', index=True, index_label='ImageId')"
   ]
  }
 ],
 "metadata": {
  "kernelspec": {
   "display_name": "Python 3",
   "language": "python",
   "name": "python3"
  },
  "language_info": {
   "codemirror_mode": {
    "name": "ipython",
    "version": 3
   },
   "file_extension": ".py",
   "mimetype": "text/x-python",
   "name": "python",
   "nbconvert_exporter": "python",
   "pygments_lexer": "ipython3",
   "version": "3.10.10"
  },
  "papermill": {
   "default_parameters": {},
   "duration": 200.296069,
   "end_time": "2023-04-09T22:27:50.721868",
   "environment_variables": {},
   "exception": null,
   "input_path": "__notebook__.ipynb",
   "output_path": "__notebook__.ipynb",
   "parameters": {},
   "start_time": "2023-04-09T22:24:30.425799",
   "version": "2.4.0"
  }
 },
 "nbformat": 4,
 "nbformat_minor": 5
}
