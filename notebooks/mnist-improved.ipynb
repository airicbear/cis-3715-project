{
 "cells": [
  {
   "cell_type": "markdown",
   "id": "1487588f",
   "metadata": {
    "_cell_guid": "b1076dfc-b9ad-4769-8c92-a6c4dae69d19",
    "_uuid": "8f2839f25d086af736a60e9eeb907d3b93b6e0e5",
    "papermill": {
     "duration": 0.010737,
     "end_time": "2023-04-16T23:05:33.392644",
     "exception": false,
     "start_time": "2023-04-16T23:05:33.381907",
     "status": "completed"
    },
    "tags": []
   },
   "source": [
    "# MNIST Improved Model\n",
    "\n",
    "In this notebook, we create an improved (from our baseline) model for handwritten digit recognition on the MNIST data set."
   ]
  },
  {
   "cell_type": "markdown",
   "id": "26396994",
   "metadata": {
    "papermill": {
     "duration": 0.008732,
     "end_time": "2023-04-16T23:05:33.410676",
     "exception": false,
     "start_time": "2023-04-16T23:05:33.401944",
     "status": "completed"
    },
    "tags": []
   },
   "source": [
    "### Import packages"
   ]
  },
  {
   "cell_type": "code",
   "execution_count": 1,
   "id": "38fa448d",
   "metadata": {
    "execution": {
     "iopub.execute_input": "2023-04-16T23:05:33.433085Z",
     "iopub.status.busy": "2023-04-16T23:05:33.432380Z",
     "iopub.status.idle": "2023-04-16T23:05:41.402499Z",
     "shell.execute_reply": "2023-04-16T23:05:41.401356Z"
    },
    "papermill": {
     "duration": 7.985095,
     "end_time": "2023-04-16T23:05:41.405178",
     "exception": false,
     "start_time": "2023-04-16T23:05:33.420083",
     "status": "completed"
    },
    "tags": []
   },
   "outputs": [],
   "source": [
    "import numpy as np\n",
    "import pandas as pd\n",
    "\n",
    "import matplotlib.pyplot as plt\n",
    "import scipy\n",
    "from sklearn.metrics import ConfusionMatrixDisplay\n",
    "\n",
    "import tensorflow as tf\n",
    "\n",
    "from sklearn.model_selection import train_test_split\n",
    "from sklearn.metrics import accuracy_score, f1_score, recall_score, precision_score, classification_report"
   ]
  },
  {
   "cell_type": "markdown",
   "id": "1bc3d13c",
   "metadata": {
    "papermill": {
     "duration": 0.009458,
     "end_time": "2023-04-16T23:05:41.423822",
     "exception": false,
     "start_time": "2023-04-16T23:05:41.414364",
     "status": "completed"
    },
    "tags": []
   },
   "source": [
    "### Load data"
   ]
  },
  {
   "cell_type": "code",
   "execution_count": 2,
   "id": "b8789b02",
   "metadata": {
    "execution": {
     "iopub.execute_input": "2023-04-16T23:05:41.443873Z",
     "iopub.status.busy": "2023-04-16T23:05:41.442435Z",
     "iopub.status.idle": "2023-04-16T23:05:47.019569Z",
     "shell.execute_reply": "2023-04-16T23:05:47.018420Z"
    },
    "papermill": {
     "duration": 5.590281,
     "end_time": "2023-04-16T23:05:47.022986",
     "exception": false,
     "start_time": "2023-04-16T23:05:41.432705",
     "status": "completed"
    },
    "tags": []
   },
   "outputs": [],
   "source": [
    "train_data = pd.read_csv(\"../data/train.csv\")\n",
    "X_test = pd.read_csv(\"../data/test.csv\")\n",
    "\n",
    "X_train = train_data.drop('label', axis=1)\n",
    "y_train = train_data['label'].values\n",
    "\n",
    "X_train = X_train / 255.0\n",
    "X_test = X_test / 255.0\n",
    "\n",
    "X_train = X_train.values.reshape(-1, 28, 28)\n",
    "X_test = X_test.values.reshape(-1, 28, 28)"
   ]
  },
  {
   "cell_type": "markdown",
   "id": "3ac91d1f",
   "metadata": {
    "papermill": {
     "duration": 0.009027,
     "end_time": "2023-04-16T23:05:47.048131",
     "exception": false,
     "start_time": "2023-04-16T23:05:47.039104",
     "status": "completed"
    },
    "tags": []
   },
   "source": [
    "## Define model"
   ]
  },
  {
   "cell_type": "code",
   "execution_count": 3,
   "id": "5929aca3",
   "metadata": {
    "execution": {
     "iopub.execute_input": "2023-04-16T23:05:47.066908Z",
     "iopub.status.busy": "2023-04-16T23:05:47.066562Z",
     "iopub.status.idle": "2023-04-16T23:05:47.074379Z",
     "shell.execute_reply": "2023-04-16T23:05:47.073174Z"
    },
    "papermill": {
     "duration": 0.020501,
     "end_time": "2023-04-16T23:05:47.077179",
     "exception": false,
     "start_time": "2023-04-16T23:05:47.056678",
     "status": "completed"
    },
    "tags": []
   },
   "outputs": [],
   "source": [
    "def create_model_1():\n",
    "    return tf.keras.models.Sequential([\n",
    "        tf.keras.layers.Conv2D(64, (5, 5), padding='Same', activation='relu', input_shape=(28, 28, 1)),\n",
    "        tf.keras.layers.BatchNormalization(),\n",
    "        tf.keras.layers.MaxPool2D((2, 2)),\n",
    "        tf.keras.layers.Conv2D(128, (5, 5), padding='Same', activation='relu'),\n",
    "        tf.keras.layers.BatchNormalization(),\n",
    "        tf.keras.layers.MaxPool2D((2, 2)),\n",
    "        tf.keras.layers.Flatten(),\n",
    "        tf.keras.layers.Dense(10),\n",
    "        tf.keras.layers.BatchNormalization(),\n",
    "        tf.keras.layers.Softmax(),\n",
    "    ])"
   ]
  },
  {
   "cell_type": "code",
   "execution_count": 4,
   "id": "1d377fa9",
   "metadata": {
    "execution": {
     "iopub.execute_input": "2023-04-16T23:05:47.096374Z",
     "iopub.status.busy": "2023-04-16T23:05:47.096033Z",
     "iopub.status.idle": "2023-04-16T23:05:47.103685Z",
     "shell.execute_reply": "2023-04-16T23:05:47.102580Z"
    },
    "papermill": {
     "duration": 0.019998,
     "end_time": "2023-04-16T23:05:47.106065",
     "exception": false,
     "start_time": "2023-04-16T23:05:47.086067",
     "status": "completed"
    },
    "tags": []
   },
   "outputs": [],
   "source": [
    "def create_model_2():\n",
    "    return tf.keras.models.Sequential([\n",
    "        tf.keras.layers.Conv2D(64, (5, 5), padding='Same', activation='relu', input_shape=(28, 28, 1)),\n",
    "        tf.keras.layers.BatchNormalization(),\n",
    "        tf.keras.layers.MaxPool2D((2, 2)),\n",
    "        tf.keras.layers.Conv2D(128, (5, 5), padding='Same', activation='relu'),\n",
    "        tf.keras.layers.BatchNormalization(),\n",
    "        tf.keras.layers.MaxPool2D((2, 2)),\n",
    "        tf.keras.layers.Flatten(),\n",
    "        tf.keras.layers.Dense(100),\n",
    "        tf.keras.layers.BatchNormalization(),\n",
    "        tf.keras.layers.Dense(10),\n",
    "        tf.keras.layers.BatchNormalization(),\n",
    "        tf.keras.layers.Softmax(),\n",
    "    ])"
   ]
  },
  {
   "cell_type": "code",
   "execution_count": 5,
   "id": "2181ab3c",
   "metadata": {
    "execution": {
     "iopub.execute_input": "2023-04-16T23:05:47.125410Z",
     "iopub.status.busy": "2023-04-16T23:05:47.125085Z",
     "iopub.status.idle": "2023-04-16T23:05:47.133199Z",
     "shell.execute_reply": "2023-04-16T23:05:47.132109Z"
    },
    "papermill": {
     "duration": 0.020879,
     "end_time": "2023-04-16T23:05:47.135944",
     "exception": false,
     "start_time": "2023-04-16T23:05:47.115065",
     "status": "completed"
    },
    "tags": []
   },
   "outputs": [],
   "source": [
    "def create_model_3():\n",
    "    return tf.keras.models.Sequential([\n",
    "        tf.keras.layers.Conv2D(32, (5, 5), padding='Same', activation='relu', input_shape=(28, 28, 1)),\n",
    "        tf.keras.layers.BatchNormalization(),\n",
    "        tf.keras.layers.Conv2D(64, (5, 5), padding='Same', activation='relu', input_shape=(28, 28, 1)),\n",
    "        tf.keras.layers.BatchNormalization(),\n",
    "        tf.keras.layers.MaxPool2D((2, 2)),\n",
    "        tf.keras.layers.Conv2D(96, (5, 5), padding='Same', activation='relu'),\n",
    "        tf.keras.layers.BatchNormalization(),\n",
    "        tf.keras.layers.Conv2D(128, (5, 5), padding='Same', activation='relu'),\n",
    "        tf.keras.layers.BatchNormalization(),\n",
    "        tf.keras.layers.MaxPool2D((2, 2)),\n",
    "        tf.keras.layers.Flatten(),\n",
    "        tf.keras.layers.Dense(10),\n",
    "        tf.keras.layers.BatchNormalization(),\n",
    "        tf.keras.layers.Softmax(),\n",
    "    ])"
   ]
  },
  {
   "cell_type": "markdown",
   "id": "68aaaf9a",
   "metadata": {
    "papermill": {
     "duration": 0.009111,
     "end_time": "2023-04-16T23:05:47.154204",
     "exception": false,
     "start_time": "2023-04-16T23:05:47.145093",
     "status": "completed"
    },
    "tags": []
   },
   "source": [
    "## Define training parameters"
   ]
  },
  {
   "cell_type": "code",
   "execution_count": 6,
   "id": "eb922d90",
   "metadata": {
    "execution": {
     "iopub.execute_input": "2023-04-16T23:05:47.173799Z",
     "iopub.status.busy": "2023-04-16T23:05:47.173486Z",
     "iopub.status.idle": "2023-04-16T23:05:47.179024Z",
     "shell.execute_reply": "2023-04-16T23:05:47.178037Z"
    },
    "papermill": {
     "duration": 0.018089,
     "end_time": "2023-04-16T23:05:47.181533",
     "exception": false,
     "start_time": "2023-04-16T23:05:47.163444",
     "status": "completed"
    },
    "tags": []
   },
   "outputs": [],
   "source": [
    "EPOCHS = 25"
   ]
  },
  {
   "cell_type": "markdown",
   "id": "f7357d66",
   "metadata": {
    "papermill": {
     "duration": 0.008937,
     "end_time": "2023-04-16T23:05:47.199683",
     "exception": false,
     "start_time": "2023-04-16T23:05:47.190746",
     "status": "completed"
    },
    "tags": []
   },
   "source": [
    "## Validation"
   ]
  },
  {
   "cell_type": "code",
   "execution_count": 7,
   "id": "14a3dbcd",
   "metadata": {
    "execution": {
     "iopub.execute_input": "2023-04-16T23:05:47.218814Z",
     "iopub.status.busy": "2023-04-16T23:05:47.218504Z",
     "iopub.status.idle": "2023-04-16T23:05:47.585750Z",
     "shell.execute_reply": "2023-04-16T23:05:47.584664Z"
    },
    "papermill": {
     "duration": 0.380128,
     "end_time": "2023-04-16T23:05:47.588548",
     "exception": false,
     "start_time": "2023-04-16T23:05:47.208420",
     "status": "completed"
    },
    "tags": []
   },
   "outputs": [],
   "source": [
    "# Split the train set into train_val and test_val set\n",
    "# Test size is 0.2857\n",
    "X_train_val, X_test_val, y_train_val, y_test_val = train_test_split(X_train, y_train, \n",
    "                                                                    test_size = 0.2857, \n",
    "                                                                    random_state = 0)"
   ]
  },
  {
   "cell_type": "code",
   "execution_count": 8,
   "id": "dc698eaf",
   "metadata": {
    "execution": {
     "iopub.execute_input": "2023-04-16T23:05:47.609148Z",
     "iopub.status.busy": "2023-04-16T23:05:47.608762Z",
     "iopub.status.idle": "2023-04-16T23:05:50.697970Z",
     "shell.execute_reply": "2023-04-16T23:05:50.696903Z"
    },
    "papermill": {
     "duration": 3.102619,
     "end_time": "2023-04-16T23:05:50.700700",
     "exception": false,
     "start_time": "2023-04-16T23:05:47.598081",
     "status": "completed"
    },
    "tags": []
   },
   "outputs": [],
   "source": [
    "model_1 = create_model_1()\n",
    "model_2 = create_model_2()\n",
    "model_3 = create_model_3()"
   ]
  },
  {
   "cell_type": "code",
   "execution_count": 9,
   "id": "f997abb5",
   "metadata": {
    "execution": {
     "iopub.execute_input": "2023-04-16T23:05:50.722718Z",
     "iopub.status.busy": "2023-04-16T23:05:50.722381Z",
     "iopub.status.idle": "2023-04-16T23:05:50.740017Z",
     "shell.execute_reply": "2023-04-16T23:05:50.738928Z"
    },
    "papermill": {
     "duration": 0.031131,
     "end_time": "2023-04-16T23:05:50.742746",
     "exception": false,
     "start_time": "2023-04-16T23:05:50.711615",
     "status": "completed"
    },
    "tags": []
   },
   "outputs": [],
   "source": [
    "model_1.compile(optimizer=tf.keras.optimizers.legacy.Adam(),\n",
    "                loss=tf.keras.losses.SparseCategoricalCrossentropy(),\n",
    "                metrics=[\"accuracy\"])"
   ]
  },
  {
   "cell_type": "code",
   "execution_count": 10,
   "id": "5edb8488",
   "metadata": {
    "execution": {
     "iopub.execute_input": "2023-04-16T23:05:50.763737Z",
     "iopub.status.busy": "2023-04-16T23:05:50.763418Z",
     "iopub.status.idle": "2023-04-16T23:05:50.774595Z",
     "shell.execute_reply": "2023-04-16T23:05:50.773129Z"
    },
    "papermill": {
     "duration": 0.024143,
     "end_time": "2023-04-16T23:05:50.777106",
     "exception": false,
     "start_time": "2023-04-16T23:05:50.752963",
     "status": "completed"
    },
    "tags": []
   },
   "outputs": [],
   "source": [
    "model_2.compile(optimizer=tf.keras.optimizers.legacy.Adam(),\n",
    "                loss=tf.keras.losses.SparseCategoricalCrossentropy(),\n",
    "                metrics=[\"accuracy\"])"
   ]
  },
  {
   "cell_type": "code",
   "execution_count": 11,
   "id": "a58e17a1",
   "metadata": {
    "execution": {
     "iopub.execute_input": "2023-04-16T23:05:50.796719Z",
     "iopub.status.busy": "2023-04-16T23:05:50.796432Z",
     "iopub.status.idle": "2023-04-16T23:05:50.806632Z",
     "shell.execute_reply": "2023-04-16T23:05:50.805671Z"
    },
    "papermill": {
     "duration": 0.022559,
     "end_time": "2023-04-16T23:05:50.808800",
     "exception": false,
     "start_time": "2023-04-16T23:05:50.786241",
     "status": "completed"
    },
    "tags": []
   },
   "outputs": [],
   "source": [
    "model_3.compile(optimizer=tf.keras.optimizers.legacy.Adam(),\n",
    "                loss=tf.keras.losses.SparseCategoricalCrossentropy(),\n",
    "                metrics=[\"accuracy\"])"
   ]
  },
  {
   "cell_type": "code",
   "execution_count": 12,
   "id": "1ec0c63a",
   "metadata": {
    "execution": {
     "iopub.execute_input": "2023-04-16T23:05:50.829561Z",
     "iopub.status.busy": "2023-04-16T23:05:50.829257Z",
     "iopub.status.idle": "2023-04-16T23:08:13.851715Z",
     "shell.execute_reply": "2023-04-16T23:08:13.850487Z"
    },
    "papermill": {
     "duration": 143.159563,
     "end_time": "2023-04-16T23:08:13.977811",
     "exception": false,
     "start_time": "2023-04-16T23:05:50.818248",
     "status": "completed"
    },
    "tags": []
   },
   "outputs": [
    {
     "name": "stdout",
     "output_type": "stream",
     "text": [
      "Epoch 1/25\n",
      "938/938 [==============================] - 10s 4ms/step - loss: 0.3911 - accuracy: 0.9551\n",
      "Epoch 2/25\n",
      "938/938 [==============================] - 4s 4ms/step - loss: 0.1836 - accuracy: 0.9772\n",
      "Epoch 3/25\n",
      "938/938 [==============================] - 4s 4ms/step - loss: 0.1233 - accuracy: 0.9819\n",
      "Epoch 4/25\n",
      "938/938 [==============================] - 4s 4ms/step - loss: 0.0885 - accuracy: 0.9867\n",
      "Epoch 5/25\n",
      "938/938 [==============================] - 5s 5ms/step - loss: 0.0677 - accuracy: 0.9893\n",
      "Epoch 6/25\n",
      "938/938 [==============================] - 4s 4ms/step - loss: 0.0485 - accuracy: 0.9931\n",
      "Epoch 7/25\n",
      "938/938 [==============================] - 4s 4ms/step - loss: 0.0401 - accuracy: 0.9939\n",
      "Epoch 8/25\n",
      "938/938 [==============================] - 4s 5ms/step - loss: 0.0320 - accuracy: 0.9948\n",
      "Epoch 9/25\n",
      "938/938 [==============================] - 4s 4ms/step - loss: 0.0278 - accuracy: 0.9957\n",
      "Epoch 10/25\n",
      "938/938 [==============================] - 4s 5ms/step - loss: 0.0232 - accuracy: 0.9965\n",
      "Epoch 11/25\n",
      "938/938 [==============================] - 4s 4ms/step - loss: 0.0203 - accuracy: 0.9972\n",
      "Epoch 12/25\n",
      "938/938 [==============================] - 4s 4ms/step - loss: 0.0173 - accuracy: 0.9973\n",
      "Epoch 13/25\n",
      "938/938 [==============================] - 5s 5ms/step - loss: 0.0158 - accuracy: 0.9979\n",
      "Epoch 14/25\n",
      "938/938 [==============================] - 4s 4ms/step - loss: 0.0136 - accuracy: 0.9977\n",
      "Epoch 15/25\n",
      "938/938 [==============================] - 4s 4ms/step - loss: 0.0135 - accuracy: 0.9978\n",
      "Epoch 16/25\n",
      "938/938 [==============================] - 4s 4ms/step - loss: 0.0107 - accuracy: 0.9986\n",
      "Epoch 17/25\n",
      "938/938 [==============================] - 4s 4ms/step - loss: 0.0095 - accuracy: 0.9989\n",
      "Epoch 18/25\n",
      "938/938 [==============================] - 4s 5ms/step - loss: 0.0079 - accuracy: 0.9989\n",
      "Epoch 19/25\n",
      "938/938 [==============================] - 4s 4ms/step - loss: 0.0086 - accuracy: 0.9987\n",
      "Epoch 20/25\n",
      "938/938 [==============================] - 5s 5ms/step - loss: 0.0076 - accuracy: 0.9988\n",
      "Epoch 21/25\n",
      "938/938 [==============================] - 4s 4ms/step - loss: 0.0077 - accuracy: 0.9987\n",
      "Epoch 22/25\n",
      "938/938 [==============================] - 4s 4ms/step - loss: 0.0066 - accuracy: 0.9991\n",
      "Epoch 23/25\n",
      "938/938 [==============================] - 4s 5ms/step - loss: 0.0065 - accuracy: 0.9990\n",
      "Epoch 24/25\n",
      "938/938 [==============================] - 4s 4ms/step - loss: 0.0045 - accuracy: 0.9994\n",
      "Epoch 25/25\n",
      "938/938 [==============================] - 4s 4ms/step - loss: 0.0066 - accuracy: 0.9989\n",
      "CPU times: user 1min 59s, sys: 9.49 s, total: 2min 8s\n",
      "Wall time: 2min 23s\n"
     ]
    }
   ],
   "source": [
    "%%time\n",
    "val_h1 = model_1.fit(X_train_val, y_train_val, epochs=EPOCHS)"
   ]
  },
  {
   "cell_type": "code",
   "execution_count": 13,
   "id": "36286284",
   "metadata": {
    "execution": {
     "iopub.execute_input": "2023-04-16T23:08:14.225109Z",
     "iopub.status.busy": "2023-04-16T23:08:14.223966Z",
     "iopub.status.idle": "2023-04-16T23:10:18.036110Z",
     "shell.execute_reply": "2023-04-16T23:10:18.035056Z"
    },
    "papermill": {
     "duration": 123.937364,
     "end_time": "2023-04-16T23:10:18.038478",
     "exception": false,
     "start_time": "2023-04-16T23:08:14.101114",
     "status": "completed"
    },
    "tags": []
   },
   "outputs": [
    {
     "name": "stdout",
     "output_type": "stream",
     "text": [
      "Epoch 1/25\n",
      "938/938 [==============================] - 6s 5ms/step - loss: 0.3896 - accuracy: 0.9546\n",
      "Epoch 2/25\n",
      "938/938 [==============================] - 5s 6ms/step - loss: 0.1786 - accuracy: 0.9779\n",
      "Epoch 3/25\n",
      "938/938 [==============================] - 5s 5ms/step - loss: 0.1185 - accuracy: 0.9831\n",
      "Epoch 4/25\n",
      "938/938 [==============================] - 5s 5ms/step - loss: 0.0828 - accuracy: 0.9880\n",
      "Epoch 5/25\n",
      "938/938 [==============================] - 5s 5ms/step - loss: 0.0624 - accuracy: 0.9905\n",
      "Epoch 6/25\n",
      "938/938 [==============================] - 5s 5ms/step - loss: 0.0457 - accuracy: 0.9936\n",
      "Epoch 7/25\n",
      "938/938 [==============================] - 5s 5ms/step - loss: 0.0381 - accuracy: 0.9943\n",
      "Epoch 8/25\n",
      "938/938 [==============================] - 5s 5ms/step - loss: 0.0278 - accuracy: 0.9959\n",
      "Epoch 9/25\n",
      "938/938 [==============================] - 5s 5ms/step - loss: 0.0228 - accuracy: 0.9970\n",
      "Epoch 10/25\n",
      "938/938 [==============================] - 5s 5ms/step - loss: 0.0202 - accuracy: 0.9971\n",
      "Epoch 11/25\n",
      "938/938 [==============================] - 5s 5ms/step - loss: 0.0174 - accuracy: 0.9978\n",
      "Epoch 12/25\n",
      "938/938 [==============================] - 5s 5ms/step - loss: 0.0143 - accuracy: 0.9980\n",
      "Epoch 13/25\n",
      "938/938 [==============================] - 5s 5ms/step - loss: 0.0108 - accuracy: 0.9986\n",
      "Epoch 14/25\n",
      "938/938 [==============================] - 5s 5ms/step - loss: 0.0115 - accuracy: 0.9982\n",
      "Epoch 15/25\n",
      "938/938 [==============================] - 5s 6ms/step - loss: 0.0105 - accuracy: 0.9984\n",
      "Epoch 16/25\n",
      "938/938 [==============================] - 5s 5ms/step - loss: 0.0077 - accuracy: 0.9989\n",
      "Epoch 17/25\n",
      "938/938 [==============================] - 5s 5ms/step - loss: 0.0085 - accuracy: 0.9985\n",
      "Epoch 18/25\n",
      "938/938 [==============================] - 5s 5ms/step - loss: 0.0067 - accuracy: 0.9988\n",
      "Epoch 19/25\n",
      "938/938 [==============================] - 5s 5ms/step - loss: 0.0072 - accuracy: 0.9987\n",
      "Epoch 20/25\n",
      "938/938 [==============================] - 5s 5ms/step - loss: 0.0064 - accuracy: 0.9989\n",
      "Epoch 21/25\n",
      "938/938 [==============================] - 5s 5ms/step - loss: 0.0064 - accuracy: 0.9988\n",
      "Epoch 22/25\n",
      "938/938 [==============================] - 5s 5ms/step - loss: 0.0055 - accuracy: 0.9991\n",
      "Epoch 23/25\n",
      "938/938 [==============================] - 5s 5ms/step - loss: 0.0049 - accuracy: 0.9991\n",
      "Epoch 24/25\n",
      "938/938 [==============================] - 5s 5ms/step - loss: 0.0039 - accuracy: 0.9995\n",
      "Epoch 25/25\n",
      "938/938 [==============================] - 5s 5ms/step - loss: 0.0038 - accuracy: 0.9995\n",
      "CPU times: user 2min 18s, sys: 10.3 s, total: 2min 28s\n",
      "Wall time: 2min 3s\n"
     ]
    }
   ],
   "source": [
    "%%time\n",
    "val_h2 = model_2.fit(X_train_val, y_train_val, epochs=EPOCHS)"
   ]
  },
  {
   "cell_type": "code",
   "execution_count": 14,
   "id": "da1ab452",
   "metadata": {
    "execution": {
     "iopub.execute_input": "2023-04-16T23:10:18.687954Z",
     "iopub.status.busy": "2023-04-16T23:10:18.687540Z",
     "iopub.status.idle": "2023-04-16T23:13:41.738715Z",
     "shell.execute_reply": "2023-04-16T23:13:41.735938Z"
    },
    "papermill": {
     "duration": 203.731139,
     "end_time": "2023-04-16T23:13:42.149971",
     "exception": false,
     "start_time": "2023-04-16T23:10:18.418832",
     "status": "completed"
    },
    "tags": []
   },
   "outputs": [
    {
     "name": "stdout",
     "output_type": "stream",
     "text": [
      "Epoch 1/25\n",
      "938/938 [==============================] - 7s 6ms/step - loss: 0.3654 - accuracy: 0.9602\n",
      "Epoch 2/25\n",
      "938/938 [==============================] - 6s 7ms/step - loss: 0.1654 - accuracy: 0.9801\n",
      "Epoch 3/25\n",
      "938/938 [==============================] - 6s 6ms/step - loss: 0.1062 - accuracy: 0.9858\n",
      "Epoch 4/25\n",
      "938/938 [==============================] - 6s 6ms/step - loss: 0.0742 - accuracy: 0.9894\n",
      "Epoch 5/25\n",
      "938/938 [==============================] - 6s 6ms/step - loss: 0.0515 - accuracy: 0.9928\n",
      "Epoch 6/25\n",
      "938/938 [==============================] - 6s 6ms/step - loss: 0.0400 - accuracy: 0.9939\n",
      "Epoch 7/25\n",
      "938/938 [==============================] - 6s 6ms/step - loss: 0.0309 - accuracy: 0.9954\n",
      "Epoch 8/25\n",
      "938/938 [==============================] - 6s 7ms/step - loss: 0.0251 - accuracy: 0.9958\n",
      "Epoch 9/25\n",
      "938/938 [==============================] - 6s 6ms/step - loss: 0.0181 - accuracy: 0.9966\n",
      "Epoch 10/25\n",
      "938/938 [==============================] - 6s 6ms/step - loss: 0.0143 - accuracy: 0.9980\n",
      "Epoch 11/25\n",
      "938/938 [==============================] - 6s 6ms/step - loss: 0.0130 - accuracy: 0.9981\n",
      "Epoch 12/25\n",
      "938/938 [==============================] - 6s 6ms/step - loss: 0.0145 - accuracy: 0.9975\n",
      "Epoch 13/25\n",
      "938/938 [==============================] - 6s 7ms/step - loss: 0.0083 - accuracy: 0.9988\n",
      "Epoch 14/25\n",
      "938/938 [==============================] - 6s 6ms/step - loss: 0.0083 - accuracy: 0.9985\n",
      "Epoch 15/25\n",
      "938/938 [==============================] - 6s 6ms/step - loss: 0.0078 - accuracy: 0.9987\n",
      "Epoch 16/25\n",
      "938/938 [==============================] - 6s 6ms/step - loss: 0.0055 - accuracy: 0.9992\n",
      "Epoch 17/25\n",
      "938/938 [==============================] - 6s 6ms/step - loss: 0.0072 - accuracy: 0.9987\n",
      "Epoch 18/25\n",
      "938/938 [==============================] - 6s 7ms/step - loss: 0.0067 - accuracy: 0.9987\n",
      "Epoch 19/25\n",
      "938/938 [==============================] - 6s 6ms/step - loss: 0.0053 - accuracy: 0.9990\n",
      "Epoch 20/25\n",
      "938/938 [==============================] - 6s 6ms/step - loss: 0.0036 - accuracy: 0.9995\n",
      "Epoch 21/25\n",
      "938/938 [==============================] - 6s 6ms/step - loss: 0.0042 - accuracy: 0.9992\n",
      "Epoch 22/25\n",
      "938/938 [==============================] - 6s 6ms/step - loss: 0.0037 - accuracy: 0.9994\n",
      "Epoch 23/25\n",
      "938/938 [==============================] - 6s 6ms/step - loss: 0.0048 - accuracy: 0.9990\n",
      "Epoch 24/25\n",
      "938/938 [==============================] - 6s 7ms/step - loss: 0.0031 - accuracy: 0.9995\n",
      "Epoch 25/25\n",
      "938/938 [==============================] - 6s 6ms/step - loss: 0.0049 - accuracy: 0.9990\n",
      "CPU times: user 2min 37s, sys: 8.51 s, total: 2min 46s\n",
      "Wall time: 3min 23s\n"
     ]
    }
   ],
   "source": [
    "%%time\n",
    "val_h3 = model_3.fit(X_train_val, y_train_val, epochs=EPOCHS)"
   ]
  },
  {
   "cell_type": "code",
   "execution_count": 15,
   "id": "8caaa4ba",
   "metadata": {
    "execution": {
     "iopub.execute_input": "2023-04-16T23:13:43.032573Z",
     "iopub.status.busy": "2023-04-16T23:13:43.031439Z",
     "iopub.status.idle": "2023-04-16T23:13:47.337804Z",
     "shell.execute_reply": "2023-04-16T23:13:47.335673Z"
    },
    "papermill": {
     "duration": 4.720697,
     "end_time": "2023-04-16T23:13:47.341014",
     "exception": false,
     "start_time": "2023-04-16T23:13:42.620317",
     "status": "completed"
    },
    "tags": []
   },
   "outputs": [
    {
     "name": "stdout",
     "output_type": "stream",
     "text": [
      "375/375 [==============================] - 1s 2ms/step\n",
      "375/375 [==============================] - 1s 2ms/step\n",
      "375/375 [==============================] - 1s 2ms/step\n",
      "CPU times: user 4.05 s, sys: 347 ms, total: 4.39 s\n",
      "Wall time: 4.3 s\n"
     ]
    }
   ],
   "source": [
    "%%time\n",
    "model_1_pred = model_1.predict(X_test_val)\n",
    "model_2_pred = model_2.predict(X_test_val)\n",
    "model_3_pred = model_3.predict(X_test_val)\n",
    "\n",
    "f = lambda x: np.argmax(x)\n",
    "vf = np.vectorize(f)\n",
    "\n",
    "y_1_pred = np.fromiter((f(xi) for xi in model_1_pred), np.int64)\n",
    "y_2_pred = np.fromiter((f(xi) for xi in model_2_pred), np.int64)\n",
    "y_3_pred = np.fromiter((f(xi) for xi in model_3_pred), np.int64)\n",
    "\n",
    "y_pred = np.array([y_1_pred, y_2_pred, y_3_pred])\n",
    "y_pred = np.transpose(y_pred, (1, 0))\n",
    "y_pred = scipy.stats.mode(y_pred, axis=1)[0]\n",
    "y_pred = np.squeeze(y_pred)"
   ]
  },
  {
   "cell_type": "code",
   "execution_count": 16,
   "id": "ad96a469",
   "metadata": {
    "execution": {
     "iopub.execute_input": "2023-04-16T23:13:48.224570Z",
     "iopub.status.busy": "2023-04-16T23:13:48.223288Z",
     "iopub.status.idle": "2023-04-16T23:13:48.231952Z",
     "shell.execute_reply": "2023-04-16T23:13:48.230428Z"
    },
    "papermill": {
     "duration": 0.472715,
     "end_time": "2023-04-16T23:13:48.234798",
     "exception": false,
     "start_time": "2023-04-16T23:13:47.762083",
     "status": "completed"
    },
    "tags": []
   },
   "outputs": [
    {
     "name": "stdout",
     "output_type": "stream",
     "text": [
      "0.9936666666666667\n"
     ]
    }
   ],
   "source": [
    "print(accuracy_score(y_pred, y_test_val))"
   ]
  },
  {
   "cell_type": "code",
   "execution_count": 17,
   "id": "b9447954",
   "metadata": {
    "execution": {
     "iopub.execute_input": "2023-04-16T23:13:49.077784Z",
     "iopub.status.busy": "2023-04-16T23:13:49.077372Z",
     "iopub.status.idle": "2023-04-16T23:13:49.109824Z",
     "shell.execute_reply": "2023-04-16T23:13:49.108492Z"
    },
    "papermill": {
     "duration": 0.454932,
     "end_time": "2023-04-16T23:13:49.113124",
     "exception": false,
     "start_time": "2023-04-16T23:13:48.658192",
     "status": "completed"
    },
    "tags": []
   },
   "outputs": [
    {
     "name": "stdout",
     "output_type": "stream",
     "text": [
      "              precision    recall  f1-score   support\n",
      "\n",
      "           0       1.00      0.99      1.00      1175\n",
      "           1       1.00      0.99      1.00      1372\n",
      "           2       1.00      0.99      0.99      1237\n",
      "           3       0.99      1.00      1.00      1223\n",
      "           4       0.99      0.99      0.99      1167\n",
      "           5       0.99      1.00      0.99      1065\n",
      "           6       1.00      0.99      0.99      1179\n",
      "           7       0.99      0.99      0.99      1281\n",
      "           8       1.00      0.99      0.99      1151\n",
      "           9       0.99      0.99      0.99      1150\n",
      "\n",
      "    accuracy                           0.99     12000\n",
      "   macro avg       0.99      0.99      0.99     12000\n",
      "weighted avg       0.99      0.99      0.99     12000\n",
      "\n"
     ]
    }
   ],
   "source": [
    "# Classification report\n",
    "print(classification_report(y_pred, y_test_val))"
   ]
  },
  {
   "cell_type": "markdown",
   "id": "9dd19777",
   "metadata": {
    "papermill": {
     "duration": 0.479208,
     "end_time": "2023-04-16T23:13:50.034539",
     "exception": false,
     "start_time": "2023-04-16T23:13:49.555331",
     "status": "completed"
    },
    "tags": []
   },
   "source": [
    "## Graph"
   ]
  },
  {
   "cell_type": "code",
   "execution_count": 18,
   "id": "ab298981",
   "metadata": {
    "execution": {
     "iopub.execute_input": "2023-04-16T23:13:50.887246Z",
     "iopub.status.busy": "2023-04-16T23:13:50.886857Z",
     "iopub.status.idle": "2023-04-16T23:13:51.613310Z",
     "shell.execute_reply": "2023-04-16T23:13:51.612264Z"
    },
    "papermill": {
     "duration": 1.148778,
     "end_time": "2023-04-16T23:13:51.615704",
     "exception": false,
     "start_time": "2023-04-16T23:13:50.466926",
     "status": "completed"
    },
    "tags": []
   },
   "outputs": [
    {
     "data": {
      "text/plain": [
       "<sklearn.metrics._plot.confusion_matrix.ConfusionMatrixDisplay at 0x7fd53807bc10>"
      ]
     },
     "execution_count": 18,
     "metadata": {},
     "output_type": "execute_result"
    },
    {
     "data": {
      "image/png": "[encoded data removed]",
      "text/plain": [
       "<Figure size 640x480 with 2 Axes>"
      ]
     },
     "metadata": {},
     "output_type": "display_data"
    }
   ],
   "source": [
    "ConfusionMatrixDisplay.from_predictions(y_test_val, y_pred,\n",
    "                                        display_labels = range(0,10),\n",
    "                                        cmap=plt.cm.Blues)"
   ]
  },
  {
   "cell_type": "code",
   "execution_count": 19,
   "id": "d617246c",
   "metadata": {
    "execution": {
     "iopub.execute_input": "2023-04-16T23:13:52.502947Z",
     "iopub.status.busy": "2023-04-16T23:13:52.502558Z",
     "iopub.status.idle": "2023-04-16T23:13:52.508904Z",
     "shell.execute_reply": "2023-04-16T23:13:52.507825Z"
    },
    "papermill": {
     "duration": 0.481322,
     "end_time": "2023-04-16T23:13:52.511171",
     "exception": false,
     "start_time": "2023-04-16T23:13:52.029849",
     "status": "completed"
    },
    "tags": []
   },
   "outputs": [],
   "source": [
    "def plot_loss(h):\n",
    "    pd.DataFrame(h.history).plot(figsize = (10,8))\n",
    "    plt.xlabel('Epoch')\n",
    "    plt.ylabel('Accuracy')\n",
    "    plt.grid(True)\n",
    "    plt.yticks(np.arange(0, 1, 0.1))\n",
    "    plt.ylim(0,1)\n",
    "    plt.show()"
   ]
  },
  {
   "cell_type": "code",
   "execution_count": 20,
   "id": "1595b9e7",
   "metadata": {
    "execution": {
     "iopub.execute_input": "2023-04-16T23:13:53.340548Z",
     "iopub.status.busy": "2023-04-16T23:13:53.339801Z",
     "iopub.status.idle": "2023-04-16T23:13:53.618549Z",
     "shell.execute_reply": "2023-04-16T23:13:53.617450Z"
    },
    "papermill": {
     "duration": 0.697604,
     "end_time": "2023-04-16T23:13:53.621004",
     "exception": false,
     "start_time": "2023-04-16T23:13:52.923400",
     "status": "completed"
    },
    "tags": []
   },
   "outputs": [
    {
     "data": {
      "image/png": "[encoded data removed]",
      "text/plain": [
       "<Figure size 1000x800 with 1 Axes>"
      ]
     },
     "metadata": {},
     "output_type": "display_data"
    }
   ],
   "source": [
    "plot_loss(val_h1)"
   ]
  },
  {
   "cell_type": "code",
   "execution_count": 21,
   "id": "b8254294",
   "metadata": {
    "execution": {
     "iopub.execute_input": "2023-04-16T23:13:54.514914Z",
     "iopub.status.busy": "2023-04-16T23:13:54.514499Z",
     "iopub.status.idle": "2023-04-16T23:13:54.790974Z",
     "shell.execute_reply": "2023-04-16T23:13:54.789994Z"
    },
    "papermill": {
     "duration": 0.756324,
     "end_time": "2023-04-16T23:13:54.793417",
     "exception": false,
     "start_time": "2023-04-16T23:13:54.037093",
     "status": "completed"
    },
    "tags": []
   },
   "outputs": [
    {
     "data": {
      "image/png": "[encoded data removed]",
      "text/plain": [
       "<Figure size 1000x800 with 1 Axes>"
      ]
     },
     "metadata": {},
     "output_type": "display_data"
    }
   ],
   "source": [
    "plot_loss(val_h2)"
   ]
  },
  {
   "cell_type": "code",
   "execution_count": 22,
   "id": "aad08d03",
   "metadata": {
    "execution": {
     "iopub.execute_input": "2023-04-16T23:13:55.656312Z",
     "iopub.status.busy": "2023-04-16T23:13:55.655894Z",
     "iopub.status.idle": "2023-04-16T23:13:55.921040Z",
     "shell.execute_reply": "2023-04-16T23:13:55.919977Z"
    },
    "papermill": {
     "duration": 0.698992,
     "end_time": "2023-04-16T23:13:55.923477",
     "exception": false,
     "start_time": "2023-04-16T23:13:55.224485",
     "status": "completed"
    },
    "tags": []
   },
   "outputs": [
    {
     "data": {
      "image/png": "[encoded data removed]",
      "text/plain": [
       "<Figure size 1000x800 with 1 Axes>"
      ]
     },
     "metadata": {},
     "output_type": "display_data"
    }
   ],
   "source": [
    "plot_loss(val_h3)"
   ]
  },
  {
   "cell_type": "markdown",
   "id": "10013aa2",
   "metadata": {
    "papermill": {
     "duration": 0.426562,
     "end_time": "2023-04-16T23:13:56.824205",
     "exception": false,
     "start_time": "2023-04-16T23:13:56.397643",
     "status": "completed"
    },
    "tags": []
   },
   "source": [
    "#### Examples of wrong prediction"
   ]
  },
  {
   "cell_type": "code",
   "execution_count": 23,
   "id": "c852dae9",
   "metadata": {
    "execution": {
     "iopub.execute_input": "2023-04-16T23:13:57.665011Z",
     "iopub.status.busy": "2023-04-16T23:13:57.664605Z",
     "iopub.status.idle": "2023-04-16T23:13:57.675146Z",
     "shell.execute_reply": "2023-04-16T23:13:57.674055Z"
    },
    "papermill": {
     "duration": 0.429729,
     "end_time": "2023-04-16T23:13:57.677345",
     "exception": false,
     "start_time": "2023-04-16T23:13:57.247616",
     "status": "completed"
    },
    "tags": []
   },
   "outputs": [],
   "source": [
    "def plot_most_important_errors(model_pred):\n",
    "    y_pred_classes = np.argmax(model_pred, axis=1)\n",
    "    errors = (y_pred_classes - y_test_val != 0)\n",
    "    y_pred_classes_errors = y_pred_classes[errors]\n",
    "    y_pred_errors = model_pred[errors]\n",
    "    y_test_val_errors = y_test_val[errors]\n",
    "    X_test_val_errors = X_test_val[errors]\n",
    "\n",
    "    def display_errors(errors_index, img_errors, pred_errors, obs_errors):\n",
    "        n = 0\n",
    "        nrows = 2\n",
    "        ncols = 3\n",
    "        fig, ax = plt.subplots(nrows, ncols, sharex=True, sharey=True)\n",
    "        for row in range(nrows):\n",
    "            for col in range(ncols):\n",
    "                error = errors_index[n]\n",
    "                ax[row, col].imshow((img_errors[error]).reshape((28, 28)), cmap=plt.cm.gray)\n",
    "                ax[row, col].set_title(f\"Predicted label: {pred_errors[error]}\\nTrue label: {obs_errors[error]}\")\n",
    "                n += 1\n",
    "\n",
    "    y_pred_errors_prob = np.max(y_pred_errors, axis=1)\n",
    "    true_prob_errors = np.diagonal(np.take(y_pred_errors, y_test_val_errors, axis=1))\n",
    "    delta_pred_true_errors = y_pred_errors_prob - true_prob_errors\n",
    "    sorted_delta_errors = np.argsort(delta_pred_true_errors)\n",
    "    most_important_errors = sorted_delta_errors[-6:]\n",
    "    display_errors(most_important_errors, X_test_val_errors, y_pred_classes_errors, y_test_val_errors)"
   ]
  },
  {
   "cell_type": "code",
   "execution_count": 24,
   "id": "70f23ad2",
   "metadata": {
    "execution": {
     "iopub.execute_input": "2023-04-16T23:13:58.655750Z",
     "iopub.status.busy": "2023-04-16T23:13:58.655343Z",
     "iopub.status.idle": "2023-04-16T23:13:59.299162Z",
     "shell.execute_reply": "2023-04-16T23:13:59.298027Z"
    },
    "papermill": {
     "duration": 1.086765,
     "end_time": "2023-04-16T23:13:59.301322",
     "exception": false,
     "start_time": "2023-04-16T23:13:58.214557",
     "status": "completed"
    },
    "tags": []
   },
   "outputs": [
    {
     "data": {
      "image/png": "[encoded data removed]",
      "text/plain": [
       "<Figure size 640x480 with 6 Axes>"
      ]
     },
     "metadata": {},
     "output_type": "display_data"
    }
   ],
   "source": [
    "plot_most_important_errors(model_1_pred)"
   ]
  },
  {
   "cell_type": "code",
   "execution_count": 25,
   "id": "1db42fc6",
   "metadata": {
    "execution": {
     "iopub.execute_input": "2023-04-16T23:14:00.135925Z",
     "iopub.status.busy": "2023-04-16T23:14:00.135072Z",
     "iopub.status.idle": "2023-04-16T23:14:00.754939Z",
     "shell.execute_reply": "2023-04-16T23:14:00.753843Z"
    },
    "papermill": {
     "duration": 1.051174,
     "end_time": "2023-04-16T23:14:00.757393",
     "exception": false,
     "start_time": "2023-04-16T23:13:59.706219",
     "status": "completed"
    },
    "tags": []
   },
   "outputs": [
    {
     "data": {
      "image/png": "[encoded data removed]",
      "text/plain": [
       "<Figure size 640x480 with 6 Axes>"
      ]
     },
     "metadata": {},
     "output_type": "display_data"
    }
   ],
   "source": [
    "plot_most_important_errors(model_2_pred)"
   ]
  },
  {
   "cell_type": "code",
   "execution_count": 26,
   "id": "142a876d",
   "metadata": {
    "execution": {
     "iopub.execute_input": "2023-04-16T23:14:01.629002Z",
     "iopub.status.busy": "2023-04-16T23:14:01.628596Z",
     "iopub.status.idle": "2023-04-16T23:14:02.531314Z",
     "shell.execute_reply": "2023-04-16T23:14:02.530037Z"
    },
    "papermill": {
     "duration": 1.320315,
     "end_time": "2023-04-16T23:14:02.533805",
     "exception": false,
     "start_time": "2023-04-16T23:14:01.213490",
     "status": "completed"
    },
    "tags": []
   },
   "outputs": [
    {
     "data": {
      "image/png": "[encoded data removed]",
      "text/plain": [
       "<Figure size 640x480 with 6 Axes>"
      ]
     },
     "metadata": {},
     "output_type": "display_data"
    }
   ],
   "source": [
    "plot_most_important_errors(model_3_pred)"
   ]
  },
  {
   "cell_type": "markdown",
   "id": "93fa866e",
   "metadata": {
    "papermill": {
     "duration": 0.470828,
     "end_time": "2023-04-16T23:14:03.425269",
     "exception": false,
     "start_time": "2023-04-16T23:14:02.954441",
     "status": "completed"
    },
    "tags": []
   },
   "source": [
    "# Submission model"
   ]
  },
  {
   "cell_type": "code",
   "execution_count": 27,
   "id": "af9652ef",
   "metadata": {
    "execution": {
     "iopub.execute_input": "2023-04-16T23:14:04.266466Z",
     "iopub.status.busy": "2023-04-16T23:14:04.266081Z",
     "iopub.status.idle": "2023-04-16T23:14:04.580273Z",
     "shell.execute_reply": "2023-04-16T23:14:04.579136Z"
    },
    "papermill": {
     "duration": 0.738259,
     "end_time": "2023-04-16T23:14:04.583054",
     "exception": false,
     "start_time": "2023-04-16T23:14:03.844795",
     "status": "completed"
    },
    "tags": []
   },
   "outputs": [],
   "source": [
    "model_1_test = create_model_1()\n",
    "model_2_test = create_model_2()\n",
    "model_3_test = create_model_3()"
   ]
  },
  {
   "cell_type": "code",
   "execution_count": 28,
   "id": "b752ae21",
   "metadata": {
    "execution": {
     "iopub.execute_input": "2023-04-16T23:14:05.463418Z",
     "iopub.status.busy": "2023-04-16T23:14:05.463048Z",
     "iopub.status.idle": "2023-04-16T23:14:05.474442Z",
     "shell.execute_reply": "2023-04-16T23:14:05.473493Z"
    },
    "papermill": {
     "duration": 0.433208,
     "end_time": "2023-04-16T23:14:05.476863",
     "exception": false,
     "start_time": "2023-04-16T23:14:05.043655",
     "status": "completed"
    },
    "tags": []
   },
   "outputs": [],
   "source": [
    "model_1_test.compile(optimizer=tf.keras.optimizers.legacy.Adam(),\n",
    "                     loss=tf.keras.losses.SparseCategoricalCrossentropy(from_logits=True),\n",
    "                     metrics=[\"accuracy\"])"
   ]
  },
  {
   "cell_type": "code",
   "execution_count": 29,
   "id": "e14ee339",
   "metadata": {
    "execution": {
     "iopub.execute_input": "2023-04-16T23:14:06.355673Z",
     "iopub.status.busy": "2023-04-16T23:14:06.354581Z",
     "iopub.status.idle": "2023-04-16T23:14:06.366577Z",
     "shell.execute_reply": "2023-04-16T23:14:06.365572Z"
    },
    "papermill": {
     "duration": 0.480498,
     "end_time": "2023-04-16T23:14:06.368860",
     "exception": false,
     "start_time": "2023-04-16T23:14:05.888362",
     "status": "completed"
    },
    "tags": []
   },
   "outputs": [],
   "source": [
    "model_2_test.compile(optimizer=tf.keras.optimizers.legacy.Adam(),\n",
    "                     loss=tf.keras.losses.SparseCategoricalCrossentropy(from_logits=True),\n",
    "                     metrics=[\"accuracy\"])"
   ]
  },
  {
   "cell_type": "code",
   "execution_count": 30,
   "id": "491dce25",
   "metadata": {
    "execution": {
     "iopub.execute_input": "2023-04-16T23:14:07.195444Z",
     "iopub.status.busy": "2023-04-16T23:14:07.194273Z",
     "iopub.status.idle": "2023-04-16T23:14:07.205775Z",
     "shell.execute_reply": "2023-04-16T23:14:07.204845Z"
    },
    "papermill": {
     "duration": 0.432604,
     "end_time": "2023-04-16T23:14:07.208053",
     "exception": false,
     "start_time": "2023-04-16T23:14:06.775449",
     "status": "completed"
    },
    "tags": []
   },
   "outputs": [],
   "source": [
    "model_3_test.compile(optimizer=tf.keras.optimizers.legacy.Adam(),\n",
    "                     loss=tf.keras.losses.SparseCategoricalCrossentropy(from_logits=True),\n",
    "                     metrics=[\"accuracy\"])"
   ]
  },
  {
   "cell_type": "code",
   "execution_count": 31,
   "id": "be496630",
   "metadata": {
    "execution": {
     "iopub.execute_input": "2023-04-16T23:14:08.103626Z",
     "iopub.status.busy": "2023-04-16T23:14:08.103248Z",
     "iopub.status.idle": "2023-04-16T23:17:31.193822Z",
     "shell.execute_reply": "2023-04-16T23:17:31.192690Z"
    },
    "papermill": {
     "duration": 204.221624,
     "end_time": "2023-04-16T23:17:31.847968",
     "exception": false,
     "start_time": "2023-04-16T23:14:07.626344",
     "status": "completed"
    },
    "tags": []
   },
   "outputs": [
    {
     "name": "stdout",
     "output_type": "stream",
     "text": [
      "Epoch 1/25\n"
     ]
    },
    {
     "name": "stderr",
     "output_type": "stream",
     "text": [
      "/opt/conda/lib/python3.7/site-packages/keras/backend.py:5586: UserWarning: \"`sparse_categorical_crossentropy` received `from_logits=True`, but the `output` argument was produced by a Softmax activation and thus does not represent logits. Was this intended?\n",
      "  output, from_logits, \"Softmax\", \"sparse_categorical_crossentropy\"\n"
     ]
    },
    {
     "name": "stdout",
     "output_type": "stream",
     "text": [
      "1313/1313 [==============================] - 7s 5ms/step - loss: 0.3405 - accuracy: 0.9609\n",
      "Epoch 2/25\n",
      "1313/1313 [==============================] - 6s 4ms/step - loss: 0.1412 - accuracy: 0.9795\n",
      "Epoch 3/25\n",
      "1313/1313 [==============================] - 6s 4ms/step - loss: 0.0926 - accuracy: 0.9858\n",
      "Epoch 4/25\n",
      "1313/1313 [==============================] - 6s 4ms/step - loss: 0.0637 - accuracy: 0.9889\n",
      "Epoch 5/25\n",
      "1313/1313 [==============================] - 6s 5ms/step - loss: 0.0472 - accuracy: 0.9917\n",
      "Epoch 6/25\n",
      "1313/1313 [==============================] - 6s 5ms/step - loss: 0.0367 - accuracy: 0.9935\n",
      "Epoch 7/25\n",
      "1313/1313 [==============================] - 6s 4ms/step - loss: 0.0275 - accuracy: 0.9952\n",
      "Epoch 8/25\n",
      "1313/1313 [==============================] - 6s 5ms/step - loss: 0.0231 - accuracy: 0.9960\n",
      "Epoch 9/25\n",
      "1313/1313 [==============================] - 6s 5ms/step - loss: 0.0185 - accuracy: 0.9968\n",
      "Epoch 10/25\n",
      "1313/1313 [==============================] - 6s 5ms/step - loss: 0.0157 - accuracy: 0.9971\n",
      "Epoch 11/25\n",
      "1313/1313 [==============================] - 7s 5ms/step - loss: 0.0119 - accuracy: 0.9984\n",
      "Epoch 12/25\n",
      "1313/1313 [==============================] - 6s 4ms/step - loss: 0.0109 - accuracy: 0.9981\n",
      "Epoch 13/25\n",
      "1313/1313 [==============================] - 6s 4ms/step - loss: 0.0097 - accuracy: 0.9984\n",
      "Epoch 14/25\n",
      "1313/1313 [==============================] - 6s 4ms/step - loss: 0.0096 - accuracy: 0.9982\n",
      "Epoch 15/25\n",
      "1313/1313 [==============================] - 6s 4ms/step - loss: 0.0087 - accuracy: 0.9985\n",
      "Epoch 16/25\n",
      "1313/1313 [==============================] - 6s 5ms/step - loss: 0.0071 - accuracy: 0.9987\n",
      "Epoch 17/25\n",
      "1313/1313 [==============================] - 6s 5ms/step - loss: 0.0066 - accuracy: 0.9988\n",
      "Epoch 18/25\n",
      "1313/1313 [==============================] - 6s 4ms/step - loss: 0.0067 - accuracy: 0.9988\n",
      "Epoch 19/25\n",
      "1313/1313 [==============================] - 6s 5ms/step - loss: 0.0058 - accuracy: 0.9989\n",
      "Epoch 20/25\n",
      "1313/1313 [==============================] - 6s 4ms/step - loss: 0.0049 - accuracy: 0.9992\n",
      "Epoch 21/25\n",
      "1313/1313 [==============================] - 6s 5ms/step - loss: 0.0047 - accuracy: 0.9992\n",
      "Epoch 22/25\n",
      "1313/1313 [==============================] - 6s 5ms/step - loss: 0.0041 - accuracy: 0.9993\n",
      "Epoch 23/25\n",
      "1313/1313 [==============================] - 6s 4ms/step - loss: 0.0038 - accuracy: 0.9994\n",
      "Epoch 24/25\n",
      "1313/1313 [==============================] - 6s 4ms/step - loss: 0.0041 - accuracy: 0.9993\n",
      "Epoch 25/25\n",
      "1313/1313 [==============================] - 6s 4ms/step - loss: 0.0029 - accuracy: 0.9996\n",
      "CPU times: user 2min 46s, sys: 12.6 s, total: 2min 58s\n",
      "Wall time: 3min 23s\n"
     ]
    }
   ],
   "source": [
    "%%time\n",
    "test_h1 = model_1_test.fit(X_train, y_train, epochs=EPOCHS)"
   ]
  },
  {
   "cell_type": "code",
   "execution_count": 32,
   "id": "7d6a7ad0",
   "metadata": {
    "execution": {
     "iopub.execute_input": "2023-04-16T23:17:33.054146Z",
     "iopub.status.busy": "2023-04-16T23:17:33.053045Z",
     "iopub.status.idle": "2023-04-16T23:20:56.265806Z",
     "shell.execute_reply": "2023-04-16T23:20:56.264673Z"
    },
    "papermill": {
     "duration": 204.636106,
     "end_time": "2023-04-16T23:20:57.087273",
     "exception": false,
     "start_time": "2023-04-16T23:17:32.451167",
     "status": "completed"
    },
    "tags": []
   },
   "outputs": [
    {
     "name": "stdout",
     "output_type": "stream",
     "text": [
      "Epoch 1/25\n",
      "1313/1313 [==============================] - 8s 5ms/step - loss: 0.3360 - accuracy: 0.9606\n",
      "Epoch 2/25\n",
      "1313/1313 [==============================] - 7s 5ms/step - loss: 0.1416 - accuracy: 0.9798\n",
      "Epoch 3/25\n",
      "1313/1313 [==============================] - 7s 5ms/step - loss: 0.0878 - accuracy: 0.9865\n",
      "Epoch 4/25\n",
      "1313/1313 [==============================] - 7s 5ms/step - loss: 0.0564 - accuracy: 0.9911\n",
      "Epoch 5/25\n",
      "1313/1313 [==============================] - 7s 5ms/step - loss: 0.0432 - accuracy: 0.9925\n",
      "Epoch 6/25\n",
      "1313/1313 [==============================] - 7s 5ms/step - loss: 0.0332 - accuracy: 0.9945\n",
      "Epoch 7/25\n",
      "1313/1313 [==============================] - 7s 5ms/step - loss: 0.0272 - accuracy: 0.9950\n",
      "Epoch 8/25\n",
      "1313/1313 [==============================] - 7s 5ms/step - loss: 0.0197 - accuracy: 0.9965\n",
      "Epoch 9/25\n",
      "1313/1313 [==============================] - 7s 5ms/step - loss: 0.0169 - accuracy: 0.9972\n",
      "Epoch 10/25\n",
      "1313/1313 [==============================] - 7s 5ms/step - loss: 0.0137 - accuracy: 0.9976\n",
      "Epoch 11/25\n",
      "1313/1313 [==============================] - 7s 5ms/step - loss: 0.0112 - accuracy: 0.9981\n",
      "Epoch 12/25\n",
      "1313/1313 [==============================] - 7s 5ms/step - loss: 0.0096 - accuracy: 0.9984\n",
      "Epoch 13/25\n",
      "1313/1313 [==============================] - 7s 5ms/step - loss: 0.0084 - accuracy: 0.9985\n",
      "Epoch 14/25\n",
      "1313/1313 [==============================] - 7s 5ms/step - loss: 0.0068 - accuracy: 0.9989\n",
      "Epoch 15/25\n",
      "1313/1313 [==============================] - 7s 5ms/step - loss: 0.0079 - accuracy: 0.9985\n",
      "Epoch 16/25\n",
      "1313/1313 [==============================] - 7s 5ms/step - loss: 0.0062 - accuracy: 0.9991\n",
      "Epoch 17/25\n",
      "1313/1313 [==============================] - 7s 5ms/step - loss: 0.0054 - accuracy: 0.9991\n",
      "Epoch 18/25\n",
      "1313/1313 [==============================] - 7s 5ms/step - loss: 0.0060 - accuracy: 0.9989\n",
      "Epoch 19/25\n",
      "1313/1313 [==============================] - 7s 5ms/step - loss: 0.0041 - accuracy: 0.9993\n",
      "Epoch 20/25\n",
      "1313/1313 [==============================] - 7s 5ms/step - loss: 0.0042 - accuracy: 0.9994\n",
      "Epoch 21/25\n",
      "1313/1313 [==============================] - 7s 5ms/step - loss: 0.0041 - accuracy: 0.9993\n",
      "Epoch 22/25\n",
      "1313/1313 [==============================] - 7s 5ms/step - loss: 0.0033 - accuracy: 0.9995\n",
      "Epoch 23/25\n",
      "1313/1313 [==============================] - 7s 5ms/step - loss: 0.0029 - accuracy: 0.9995\n",
      "Epoch 24/25\n",
      "1313/1313 [==============================] - 7s 5ms/step - loss: 0.0035 - accuracy: 0.9994\n",
      "Epoch 25/25\n",
      "1313/1313 [==============================] - 7s 5ms/step - loss: 0.0039 - accuracy: 0.9992\n",
      "CPU times: user 3min 11s, sys: 14.6 s, total: 3min 26s\n",
      "Wall time: 3min 23s\n"
     ]
    }
   ],
   "source": [
    "%%time\n",
    "test_h2 = model_2_test.fit(X_train, y_train, epochs=EPOCHS)"
   ]
  },
  {
   "cell_type": "code",
   "execution_count": 33,
   "id": "c820202e",
   "metadata": {
    "execution": {
     "iopub.execute_input": "2023-04-16T23:20:58.681443Z",
     "iopub.status.busy": "2023-04-16T23:20:58.680242Z",
     "iopub.status.idle": "2023-04-16T23:25:22.180150Z",
     "shell.execute_reply": "2023-04-16T23:25:22.179093Z"
    },
    "papermill": {
     "duration": 265.395698,
     "end_time": "2023-04-16T23:25:23.248438",
     "exception": false,
     "start_time": "2023-04-16T23:20:57.852740",
     "status": "completed"
    },
    "tags": []
   },
   "outputs": [
    {
     "name": "stdout",
     "output_type": "stream",
     "text": [
      "Epoch 1/25\n",
      "1313/1313 [==============================] - 9s 6ms/step - loss: 0.3130 - accuracy: 0.9668\n",
      "Epoch 2/25\n",
      "1313/1313 [==============================] - 8s 6ms/step - loss: 0.1291 - accuracy: 0.9827\n",
      "Epoch 3/25\n",
      "1313/1313 [==============================] - 8s 6ms/step - loss: 0.0756 - accuracy: 0.9883\n",
      "Epoch 4/25\n",
      "1313/1313 [==============================] - 9s 7ms/step - loss: 0.0484 - accuracy: 0.9925\n",
      "Epoch 5/25\n",
      "1313/1313 [==============================] - 8s 6ms/step - loss: 0.0369 - accuracy: 0.9934\n",
      "Epoch 6/25\n",
      "1313/1313 [==============================] - 8s 6ms/step - loss: 0.0260 - accuracy: 0.9955\n",
      "Epoch 7/25\n",
      "1313/1313 [==============================] - 8s 6ms/step - loss: 0.0209 - accuracy: 0.9960\n",
      "Epoch 8/25\n",
      "1313/1313 [==============================] - 9s 7ms/step - loss: 0.0158 - accuracy: 0.9972\n",
      "Epoch 9/25\n",
      "1313/1313 [==============================] - 8s 6ms/step - loss: 0.0136 - accuracy: 0.9971\n",
      "Epoch 10/25\n",
      "1313/1313 [==============================] - 8s 6ms/step - loss: 0.0122 - accuracy: 0.9976\n",
      "Epoch 11/25\n",
      "1313/1313 [==============================] - 8s 6ms/step - loss: 0.0097 - accuracy: 0.9981\n",
      "Epoch 12/25\n",
      "1313/1313 [==============================] - 9s 7ms/step - loss: 0.0075 - accuracy: 0.9984\n",
      "Epoch 13/25\n",
      "1313/1313 [==============================] - 8s 6ms/step - loss: 0.0054 - accuracy: 0.9990\n",
      "Epoch 14/25\n",
      "1313/1313 [==============================] - 8s 6ms/step - loss: 0.0087 - accuracy: 0.9979\n",
      "Epoch 15/25\n",
      "1313/1313 [==============================] - 8s 6ms/step - loss: 0.0041 - accuracy: 0.9992\n",
      "Epoch 16/25\n",
      "1313/1313 [==============================] - 9s 7ms/step - loss: 0.0047 - accuracy: 0.9991\n",
      "Epoch 17/25\n",
      "1313/1313 [==============================] - 8s 6ms/step - loss: 0.0064 - accuracy: 0.9985\n",
      "Epoch 18/25\n",
      "1313/1313 [==============================] - 8s 6ms/step - loss: 0.0032 - accuracy: 0.9994\n",
      "Epoch 19/25\n",
      "1313/1313 [==============================] - 8s 6ms/step - loss: 0.0036 - accuracy: 0.9994\n",
      "Epoch 20/25\n",
      "1313/1313 [==============================] - 8s 6ms/step - loss: 0.0030 - accuracy: 0.9993\n",
      "Epoch 21/25\n",
      "1313/1313 [==============================] - 8s 6ms/step - loss: 0.0040 - accuracy: 0.9991\n",
      "Epoch 22/25\n",
      "1313/1313 [==============================] - 8s 6ms/step - loss: 0.0022 - accuracy: 0.9997\n",
      "Epoch 23/25\n",
      "1313/1313 [==============================] - 9s 7ms/step - loss: 0.0041 - accuracy: 0.9990\n",
      "Epoch 24/25\n",
      "1313/1313 [==============================] - 8s 6ms/step - loss: 0.0026 - accuracy: 0.9994\n",
      "Epoch 25/25\n",
      "1313/1313 [==============================] - 8s 6ms/step - loss: 0.0033 - accuracy: 0.9994\n",
      "CPU times: user 3min 38s, sys: 12 s, total: 3min 50s\n",
      "Wall time: 4min 23s\n"
     ]
    }
   ],
   "source": [
    "%%time\n",
    "test_h3 = model_3_test.fit(X_train, y_train, epochs=EPOCHS)"
   ]
  },
  {
   "cell_type": "code",
   "execution_count": 34,
   "id": "87f5db89",
   "metadata": {
    "execution": {
     "iopub.execute_input": "2023-04-16T23:25:25.245158Z",
     "iopub.status.busy": "2023-04-16T23:25:25.244714Z",
     "iopub.status.idle": "2023-04-16T23:25:25.454266Z",
     "shell.execute_reply": "2023-04-16T23:25:25.453124Z"
    },
    "papermill": {
     "duration": 1.241533,
     "end_time": "2023-04-16T23:25:25.457153",
     "exception": false,
     "start_time": "2023-04-16T23:25:24.215620",
     "status": "completed"
    },
    "tags": []
   },
   "outputs": [],
   "source": [
    "model_1_test.save('cnn-1.h5')\n",
    "model_2_test.save('cnn-2.h5')\n",
    "model_3_test.save('cnn-3.h5')"
   ]
  },
  {
   "cell_type": "code",
   "execution_count": 35,
   "id": "30802f84",
   "metadata": {
    "execution": {
     "iopub.execute_input": "2023-04-16T23:25:27.504544Z",
     "iopub.status.busy": "2023-04-16T23:25:27.504181Z",
     "iopub.status.idle": "2023-04-16T23:25:27.760857Z",
     "shell.execute_reply": "2023-04-16T23:25:27.759756Z"
    },
    "papermill": {
     "duration": 1.261274,
     "end_time": "2023-04-16T23:25:27.763183",
     "exception": false,
     "start_time": "2023-04-16T23:25:26.501909",
     "status": "completed"
    },
    "tags": []
   },
   "outputs": [
    {
     "data": {
      "image/png": "[encoded data removed]",
      "text/plain": [
       "<Figure size 1000x800 with 1 Axes>"
      ]
     },
     "metadata": {},
     "output_type": "display_data"
    }
   ],
   "source": [
    "plot_loss(test_h1)"
   ]
  },
  {
   "cell_type": "code",
   "execution_count": 36,
   "id": "2664ab07",
   "metadata": {
    "execution": {
     "iopub.execute_input": "2023-04-16T23:25:29.885461Z",
     "iopub.status.busy": "2023-04-16T23:25:29.884435Z",
     "iopub.status.idle": "2023-04-16T23:25:30.149088Z",
     "shell.execute_reply": "2023-04-16T23:25:30.147944Z"
    },
    "papermill": {
     "duration": 1.300165,
     "end_time": "2023-04-16T23:25:30.151482",
     "exception": false,
     "start_time": "2023-04-16T23:25:28.851317",
     "status": "completed"
    },
    "tags": []
   },
   "outputs": [
    {
     "data": {
      "image/png": "[encoded data removed]",
      "text/plain": [
       "<Figure size 1000x800 with 1 Axes>"
      ]
     },
     "metadata": {},
     "output_type": "display_data"
    }
   ],
   "source": [
    "plot_loss(test_h2)"
   ]
  },
  {
   "cell_type": "code",
   "execution_count": 37,
   "id": "651792c1",
   "metadata": {
    "execution": {
     "iopub.execute_input": "2023-04-16T23:25:32.281404Z",
     "iopub.status.busy": "2023-04-16T23:25:32.280327Z",
     "iopub.status.idle": "2023-04-16T23:25:32.543066Z",
     "shell.execute_reply": "2023-04-16T23:25:32.541965Z"
    },
    "papermill": {
     "duration": 1.251226,
     "end_time": "2023-04-16T23:25:32.545480",
     "exception": false,
     "start_time": "2023-04-16T23:25:31.294254",
     "status": "completed"
    },
    "tags": []
   },
   "outputs": [
    {
     "data": {
      "image/png": "[encoded data removed]",
      "text/plain": [
       "<Figure size 1000x800 with 1 Axes>"
      ]
     },
     "metadata": {},
     "output_type": "display_data"
    }
   ],
   "source": [
    "plot_loss(test_h3)"
   ]
  },
  {
   "cell_type": "code",
   "execution_count": 38,
   "id": "2ea29bb8",
   "metadata": {
    "execution": {
     "iopub.execute_input": "2023-04-16T23:25:34.605289Z",
     "iopub.status.busy": "2023-04-16T23:25:34.604868Z",
     "iopub.status.idle": "2023-04-16T23:25:44.169327Z",
     "shell.execute_reply": "2023-04-16T23:25:44.168129Z"
    },
    "papermill": {
     "duration": 10.567294,
     "end_time": "2023-04-16T23:25:44.171810",
     "exception": false,
     "start_time": "2023-04-16T23:25:33.604516",
     "status": "completed"
    },
    "tags": []
   },
   "outputs": [
    {
     "name": "stdout",
     "output_type": "stream",
     "text": [
      "875/875 [==============================] - 2s 2ms/step\n",
      "875/875 [==============================] - 2s 2ms/step\n",
      "875/875 [==============================] - 2s 2ms/step\n",
      "CPU times: user 8.83 s, sys: 811 ms, total: 9.64 s\n",
      "Wall time: 9.55 s\n"
     ]
    },
    {
     "data": {
      "text/plain": [
       "array([2, 0, 9, ..., 3, 9, 2])"
      ]
     },
     "execution_count": 38,
     "metadata": {},
     "output_type": "execute_result"
    }
   ],
   "source": [
    "%%time\n",
    "model_1_pred_test = model_1.predict(X_test)\n",
    "model_2_pred_test = model_2.predict(X_test)\n",
    "model_3_pred_test = model_3.predict(X_test)\n",
    "\n",
    "f = lambda x: np.argmax(x)\n",
    "vf = np.vectorize(f)\n",
    "\n",
    "y_1_pred_test = np.fromiter((f(xi) for xi in model_1_pred_test), np.int64)\n",
    "y_2_pred_test = np.fromiter((f(xi) for xi in model_2_pred_test), np.int64)\n",
    "y_3_pred_test = np.fromiter((f(xi) for xi in model_3_pred_test), np.int64)\n",
    "\n",
    "y_pred_test = np.array([y_1_pred_test, y_2_pred_test, y_3_pred_test])\n",
    "y_pred_test = np.transpose(y_pred_test, (1, 0))\n",
    "y_pred_test = scipy.stats.mode(y_pred_test, axis=1)[0]\n",
    "y_pred_test = np.squeeze(y_pred_test)\n",
    "y_pred_test"
   ]
  },
  {
   "cell_type": "code",
   "execution_count": 39,
   "id": "4b9361da",
   "metadata": {
    "execution": {
     "iopub.execute_input": "2023-04-16T23:25:46.263865Z",
     "iopub.status.busy": "2023-04-16T23:25:46.263493Z",
     "iopub.status.idle": "2023-04-16T23:25:46.271813Z",
     "shell.execute_reply": "2023-04-16T23:25:46.270064Z"
    },
    "papermill": {
     "duration": 1.058165,
     "end_time": "2023-04-16T23:25:46.274577",
     "exception": false,
     "start_time": "2023-04-16T23:25:45.216412",
     "status": "completed"
    },
    "tags": []
   },
   "outputs": [
    {
     "name": "stdout",
     "output_type": "stream",
     "text": [
      "CPU times: user 2.22 ms, sys: 13 µs, total: 2.23 ms\n",
      "Wall time: 1.94 ms\n"
     ]
    }
   ],
   "source": [
    "%%time\n",
    "submission = pd.DataFrame({'Label': y_pred_test})\n",
    "submission.index += 1"
   ]
  },
  {
   "cell_type": "code",
   "execution_count": 40,
   "id": "07a6f392",
   "metadata": {
    "execution": {
     "iopub.execute_input": "2023-04-16T23:25:48.310976Z",
     "iopub.status.busy": "2023-04-16T23:25:48.310366Z",
     "iopub.status.idle": "2023-04-16T23:25:48.324761Z",
     "shell.execute_reply": "2023-04-16T23:25:48.323721Z"
    },
    "papermill": {
     "duration": 1.069245,
     "end_time": "2023-04-16T23:25:48.327094",
     "exception": false,
     "start_time": "2023-04-16T23:25:47.257849",
     "status": "completed"
    },
    "tags": []
   },
   "outputs": [
    {
     "data": {
      "text/html": [
       "<div>\n",
       "<style scoped>\n",
       "    .dataframe tbody tr th:only-of-type {\n",
       "        vertical-align: middle;\n",
       "    }\n",
       "\n",
       "    .dataframe tbody tr th {\n",
       "        vertical-align: top;\n",
       "    }\n",
       "\n",
       "    .dataframe thead th {\n",
       "        text-align: right;\n",
       "    }\n",
       "</style>\n",
       "<table border=\"1\" class=\"dataframe\">\n",
       "  <thead>\n",
       "    <tr style=\"text-align: right;\">\n",
       "      <th></th>\n",
       "      <th>Label</th>\n",
       "    </tr>\n",
       "  </thead>\n",
       "  <tbody>\n",
       "    <tr>\n",
       "      <th>1</th>\n",
       "      <td>2</td>\n",
       "    </tr>\n",
       "    <tr>\n",
       "      <th>2</th>\n",
       "      <td>0</td>\n",
       "    </tr>\n",
       "    <tr>\n",
       "      <th>3</th>\n",
       "      <td>9</td>\n",
       "    </tr>\n",
       "    <tr>\n",
       "      <th>4</th>\n",
       "      <td>0</td>\n",
       "    </tr>\n",
       "    <tr>\n",
       "      <th>5</th>\n",
       "      <td>3</td>\n",
       "    </tr>\n",
       "    <tr>\n",
       "      <th>...</th>\n",
       "      <td>...</td>\n",
       "    </tr>\n",
       "    <tr>\n",
       "      <th>27996</th>\n",
       "      <td>9</td>\n",
       "    </tr>\n",
       "    <tr>\n",
       "      <th>27997</th>\n",
       "      <td>7</td>\n",
       "    </tr>\n",
       "    <tr>\n",
       "      <th>27998</th>\n",
       "      <td>3</td>\n",
       "    </tr>\n",
       "    <tr>\n",
       "      <th>27999</th>\n",
       "      <td>9</td>\n",
       "    </tr>\n",
       "    <tr>\n",
       "      <th>28000</th>\n",
       "      <td>2</td>\n",
       "    </tr>\n",
       "  </tbody>\n",
       "</table>\n",
       "<p>28000 rows × 1 columns</p>\n",
       "</div>"
      ],
      "text/plain": [
       "       Label\n",
       "1          2\n",
       "2          0\n",
       "3          9\n",
       "4          0\n",
       "5          3\n",
       "...      ...\n",
       "27996      9\n",
       "27997      7\n",
       "27998      3\n",
       "27999      9\n",
       "28000      2\n",
       "\n",
       "[28000 rows x 1 columns]"
      ]
     },
     "execution_count": 40,
     "metadata": {},
     "output_type": "execute_result"
    }
   ],
   "source": [
    "submission"
   ]
  },
  {
   "cell_type": "code",
   "execution_count": 41,
   "id": "2498c418",
   "metadata": {
    "execution": {
     "iopub.execute_input": "2023-04-16T23:25:50.425956Z",
     "iopub.status.busy": "2023-04-16T23:25:50.425593Z",
     "iopub.status.idle": "2023-04-16T23:25:50.466047Z",
     "shell.execute_reply": "2023-04-16T23:25:50.465056Z"
    },
    "papermill": {
     "duration": 1.101063,
     "end_time": "2023-04-16T23:25:50.468405",
     "exception": false,
     "start_time": "2023-04-16T23:25:49.367342",
     "status": "completed"
    },
    "tags": []
   },
   "outputs": [
    {
     "name": "stdout",
     "output_type": "stream",
     "text": [
      "CPU times: user 32 ms, sys: 885 µs, total: 32.9 ms\n",
      "Wall time: 33.7 ms\n"
     ]
    }
   ],
   "source": [
    "%%time\n",
    "submission.to_csv('submission.csv', index=True, index_label='ImageId')"
   ]
  }
 ],
 "metadata": {
  "kernelspec": {
   "display_name": "Python 3",
   "language": "python",
   "name": "python3"
  },
  "language_info": {
   "codemirror_mode": {
    "name": "ipython",
    "version": 3
   },
   "file_extension": ".py",
   "mimetype": "text/x-python",
   "name": "python",
   "nbconvert_exporter": "python",
   "pygments_lexer": "ipython3",
   "version": "3.10.10"
  },
  "papermill": {
   "default_parameters": {},
   "duration": 1231.441391,
   "end_time": "2023-04-16T23:25:55.161512",
   "environment_variables": {},
   "exception": null,
   "input_path": "__notebook__.ipynb",
   "output_path": "__notebook__.ipynb",
   "parameters": {},
   "start_time": "2023-04-16T23:05:23.720121",
   "version": "2.4.0"
  }
 },
 "nbformat": 4,
 "nbformat_minor": 5
}
